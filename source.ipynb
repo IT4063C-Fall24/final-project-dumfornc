{
 "cells": [
  {
   "attachments": {},
   "cell_type": "markdown",
   "metadata": {},
   "source": [
    "# Effectiveness of Remote Employees📝\n",
    "\n",
    "![Banner](./assets/banner.jpeg)"
   ]
  },
  {
   "attachments": {},
   "cell_type": "markdown",
   "metadata": {},
   "source": [
    "## Topic\n",
    "*What problem are you (or your stakeholder) trying to address?*\n",
    "📝 <!-- Answer Below -->\n",
    "Many companies, esspecially in the IT sector, allowed employees to work from home during covid and some have continued the trend. It is still unclear if employers should allow their employees to work from home. I find this esspecially interesting since I find that my productivity drops drastically when I am in office but as I understand it most people are far more productive in the office than at home. "
   ]
  },
  {
   "attachments": {},
   "cell_type": "markdown",
   "metadata": {},
   "source": [
    "## Project Question\n",
    "*What specific question are you seeking to answer with this project?*\n",
    "*This is not the same as the questions you ask to limit the scope of the project.*\n",
    "📝 <!-- Answer Below -->\n",
    "Does working from home ultimately benifit employees and employeers?"
   ]
  },
  {
   "attachments": {},
   "cell_type": "markdown",
   "metadata": {},
   "source": [
    "## What would an answer look like?\n",
    "*What is your hypothesized answer to your question?*\n",
    "📝 <!-- Answer Below -->\n",
    "Some visualizations like bar charts to show productivity changes over time, heatmaps to explore factors influencing productivity, and pie charts for comparing remote vs. in-office work outcomes could be a part of the answer. Ultimately I think the answer to this question will be data comparing factors like mental health, stress, productivity, engagement, coworker relations, and company profit (specifically looking at costs of outfitting employees to work from home vs housing them in an office and potentially having to do both) before and after remote work to see how the numbers stack up for both sides."
   ]
  },
  {
   "attachments": {},
   "cell_type": "markdown",
   "metadata": {},
   "source": [
    "## Data Sources\n",
    "*What 3 data sources have you identified for this project?*\n",
    "*How are you going to relate these datasets?*\n",
    "📝 <!-- Answer Below -->\n",
    "3 Data Sources:\n",
    "- Teleworking during the pandemic (https://www.kaggle.com/datasets/mpwolke/cusersmarildownloadsremotexlsx?resource=download)\n",
    "- Remote Work Productivity (https://www.kaggle.com/datasets/mrsimple07/remote-work-productivity)\n",
    "- Top challenges and advantages of remote work (https://www.gallup.com/401384/indicator-hybrid-work.aspx)\n",
    "- Remote Work & Mental Health (https://www.kaggle.com/datasets/waqi786/remote-work-and-mental-health)\n",
    "- Relationship Between Remote Work and Productivity (https://www.bls.gov/opub/btn/volume-13/remote-work-productivity.htm)\n",
    "\n",
    "I don't see ways to merge these specific datasets (though I may discover and merge others later) but mostly I plan to syntesize the data from multiple of these sources to create graphics by putting data on differnet topics side by side to show pros and cons of remote work."
   ]
  },
  {
   "attachments": {},
   "cell_type": "markdown",
   "metadata": {},
   "source": [
    "## Approach and Analysis\n",
    "*What is your approach to answering your project question?*\n",
    "*How will you use the identified data to answer your project question?*\n",
    "📝 <!-- Start Discussing the project here; you can add as many code cells as you need -->"
   ]
  },
  {
   "cell_type": "code",
   "execution_count": 2,
   "metadata": {},
   "outputs": [],
   "source": [
    "# Start your code here\n",
    "\n",
    "# Default Imports:\n",
    "import numpy as np\n",
    "import pandas as pd\n",
    "import plotly.express as px\n",
    "\n",
    "# ML Imports:\n",
    "from sklearn import model_selection\n",
    "from sklearn.compose import ColumnTransformer\n",
    "from sklearn.linear_model import LinearRegression\n",
    "from sklearn.metrics import mean_squared_error\n",
    "from sklearn.pipeline import Pipeline\n",
    "from sklearn.preprocessing import OneHotEncoder\n",
    "from sklearn.preprocessing import PolynomialFeatures\n",
    "from sklearn.preprocessing import StandardScaler\n"
   ]
  },
  {
   "cell_type": "code",
   "execution_count": 3,
   "metadata": {},
   "outputs": [],
   "source": [
    "productiviy_df = pd.read_csv(r'Data_Sources\\remote_work_productivity.csv')\n",
    "\n",
    "mental_health_df = pd.read_csv(r'Data_Sources\\Impact_of_Remote_Work_on_Mental_Health.csv')"
   ]
  },
  {
   "cell_type": "code",
   "execution_count": 4,
   "metadata": {},
   "outputs": [
    {
     "data": {
      "text/html": [
       "<div>\n",
       "<style scoped>\n",
       "    .dataframe tbody tr th:only-of-type {\n",
       "        vertical-align: middle;\n",
       "    }\n",
       "\n",
       "    .dataframe tbody tr th {\n",
       "        vertical-align: top;\n",
       "    }\n",
       "\n",
       "    .dataframe thead th {\n",
       "        text-align: right;\n",
       "    }\n",
       "</style>\n",
       "<table border=\"1\" class=\"dataframe\">\n",
       "  <thead>\n",
       "    <tr style=\"text-align: right;\">\n",
       "      <th></th>\n",
       "      <th>Select characteristics</th>\n",
       "      <th>total</th>\n",
       "      <th>Yes Because of the coronavirus pandemic</th>\n",
       "      <th>Yes but Not because of the coronavirus pandemic</th>\n",
       "      <th>Yes Did not report</th>\n",
       "      <th>No</th>\n",
       "      <th>No Did Not Report</th>\n",
       "    </tr>\n",
       "  </thead>\n",
       "  <tbody>\n",
       "    <tr>\n",
       "      <th>0</th>\n",
       "      <td>NaN</td>\n",
       "      <td>NaN</td>\n",
       "      <td>NaN</td>\n",
       "      <td>NaN</td>\n",
       "      <td>NaN</td>\n",
       "      <td>NaN</td>\n",
       "      <td>NaN</td>\n",
       "    </tr>\n",
       "    <tr>\n",
       "      <th>1</th>\n",
       "      <td>total</td>\n",
       "      <td>250265449.0</td>\n",
       "      <td>62836106.0</td>\n",
       "      <td>12201177.0</td>\n",
       "      <td>266198</td>\n",
       "      <td>172224778.0</td>\n",
       "      <td>2737190</td>\n",
       "    </tr>\n",
       "    <tr>\n",
       "      <th>2</th>\n",
       "      <td>Age</td>\n",
       "      <td>NaN</td>\n",
       "      <td>NaN</td>\n",
       "      <td>NaN</td>\n",
       "      <td>NaN</td>\n",
       "      <td>NaN</td>\n",
       "      <td>NaN</td>\n",
       "    </tr>\n",
       "    <tr>\n",
       "      <th>3</th>\n",
       "      <td>18 - 24</td>\n",
       "      <td>21264507.0</td>\n",
       "      <td>5434912.0</td>\n",
       "      <td>1085290.0</td>\n",
       "      <td>7244</td>\n",
       "      <td>14564928.0</td>\n",
       "      <td>172134</td>\n",
       "    </tr>\n",
       "    <tr>\n",
       "      <th>4</th>\n",
       "      <td>25 - 39</td>\n",
       "      <td>67294562.0</td>\n",
       "      <td>22187919.0</td>\n",
       "      <td>3037748.0</td>\n",
       "      <td>36177</td>\n",
       "      <td>41500138.0</td>\n",
       "      <td>532580</td>\n",
       "    </tr>\n",
       "    <tr>\n",
       "      <th>...</th>\n",
       "      <td>...</td>\n",
       "      <td>...</td>\n",
       "      <td>...</td>\n",
       "      <td>...</td>\n",
       "      <td>...</td>\n",
       "      <td>...</td>\n",
       "      <td>...</td>\n",
       "    </tr>\n",
       "    <tr>\n",
       "      <th>94</th>\n",
       "      <td>No difficulty</td>\n",
       "      <td>139182368.0</td>\n",
       "      <td>41748588.0</td>\n",
       "      <td>7930806.0</td>\n",
       "      <td>117625</td>\n",
       "      <td>88987554.0</td>\n",
       "      <td>397795</td>\n",
       "    </tr>\n",
       "    <tr>\n",
       "      <th>95</th>\n",
       "      <td>Some difficulty</td>\n",
       "      <td>33985786.0</td>\n",
       "      <td>5265983.0</td>\n",
       "      <td>1282628.0</td>\n",
       "      <td>22625</td>\n",
       "      <td>27095562.0</td>\n",
       "      <td>318988</td>\n",
       "    </tr>\n",
       "    <tr>\n",
       "      <th>96</th>\n",
       "      <td>A lot of difficulty</td>\n",
       "      <td>8496353.0</td>\n",
       "      <td>856184.0</td>\n",
       "      <td>227618.0</td>\n",
       "      <td>11853</td>\n",
       "      <td>7325015.0</td>\n",
       "      <td>75684</td>\n",
       "    </tr>\n",
       "    <tr>\n",
       "      <th>97</th>\n",
       "      <td>Cannot do at all</td>\n",
       "      <td>1312382.0</td>\n",
       "      <td>87445.0</td>\n",
       "      <td>38735.0</td>\n",
       "      <td>161</td>\n",
       "      <td>1148294.0</td>\n",
       "      <td>37747</td>\n",
       "    </tr>\n",
       "    <tr>\n",
       "      <th>98</th>\n",
       "      <td>Did not report</td>\n",
       "      <td>67288560.0</td>\n",
       "      <td>14877907.0</td>\n",
       "      <td>2721391.0</td>\n",
       "      <td>113934</td>\n",
       "      <td>47668352.0</td>\n",
       "      <td>1906976</td>\n",
       "    </tr>\n",
       "  </tbody>\n",
       "</table>\n",
       "<p>99 rows × 7 columns</p>\n",
       "</div>"
      ],
      "text/plain": [
       "     Select characteristics        total  \\\n",
       "0                       NaN          NaN   \n",
       "1                     total  250265449.0   \n",
       "2                      Age           NaN   \n",
       "3                   18 - 24   21264507.0   \n",
       "4                   25 - 39   67294562.0   \n",
       "..                      ...          ...   \n",
       "94            No difficulty  139182368.0   \n",
       "95          Some difficulty   33985786.0   \n",
       "96      A lot of difficulty    8496353.0   \n",
       "97         Cannot do at all    1312382.0   \n",
       "98           Did not report   67288560.0   \n",
       "\n",
       "    Yes Because of the coronavirus pandemic  \\\n",
       "0                                       NaN   \n",
       "1                                62836106.0   \n",
       "2                                       NaN   \n",
       "3                                 5434912.0   \n",
       "4                                22187919.0   \n",
       "..                                      ...   \n",
       "94                               41748588.0   \n",
       "95                                5265983.0   \n",
       "96                                 856184.0   \n",
       "97                                  87445.0   \n",
       "98                               14877907.0   \n",
       "\n",
       "    Yes but Not because of the coronavirus pandemic Yes Did not report  \\\n",
       "0                                               NaN                NaN   \n",
       "1                                        12201177.0             266198   \n",
       "2                                               NaN                NaN   \n",
       "3                                         1085290.0               7244   \n",
       "4                                         3037748.0              36177   \n",
       "..                                              ...                ...   \n",
       "94                                        7930806.0             117625   \n",
       "95                                        1282628.0              22625   \n",
       "96                                         227618.0              11853   \n",
       "97                                          38735.0                161   \n",
       "98                                        2721391.0             113934   \n",
       "\n",
       "             No No Did Not Report  \n",
       "0           NaN               NaN  \n",
       "1   172224778.0           2737190  \n",
       "2           NaN               NaN  \n",
       "3    14564928.0            172134  \n",
       "4    41500138.0            532580  \n",
       "..          ...               ...  \n",
       "94   88987554.0            397795  \n",
       "95   27095562.0            318988  \n",
       "96    7325015.0             75684  \n",
       "97    1148294.0             37747  \n",
       "98   47668352.0           1906976  \n",
       "\n",
       "[99 rows x 7 columns]"
      ]
     },
     "execution_count": 4,
     "metadata": {},
     "output_type": "execute_result"
    }
   ],
   "source": [
    "# This spreadsheet has several sections so to read it in python it will need to be broken into several sections using the formatt in the next cell.\n",
    "#  As of right now the data in this sheet does not seem particularly usefull so I will not take the time to break it all the way out but I will leave it here\n",
    "#  in case it becomes useful later.\n",
    "TWDP_df = pd.read_excel(r'Data_Sources\\remote.xlsx')\n",
    "\n",
    "TWDP_df"
   ]
  },
  {
   "cell_type": "code",
   "execution_count": 5,
   "metadata": {},
   "outputs": [
    {
     "name": "stderr",
     "output_type": "stream",
     "text": [
      "C:\\Users\\Nicholas Dumford\\AppData\\Local\\Temp\\ipykernel_1872\\4242341096.py:3: SettingWithCopyWarning: \n",
      "A value is trying to be set on a copy of a slice from a DataFrame\n",
      "\n",
      "See the caveats in the documentation: https://pandas.pydata.org/pandas-docs/stable/user_guide/indexing.html#returning-a-view-versus-a-copy\n",
      "  TWDP_age_df.rename(columns={'Select characteristics': 'Age'}, inplace=True)\n"
     ]
    },
    {
     "data": {
      "text/html": [
       "<div>\n",
       "<style scoped>\n",
       "    .dataframe tbody tr th:only-of-type {\n",
       "        vertical-align: middle;\n",
       "    }\n",
       "\n",
       "    .dataframe tbody tr th {\n",
       "        vertical-align: top;\n",
       "    }\n",
       "\n",
       "    .dataframe thead th {\n",
       "        text-align: right;\n",
       "    }\n",
       "</style>\n",
       "<table border=\"1\" class=\"dataframe\">\n",
       "  <thead>\n",
       "    <tr style=\"text-align: right;\">\n",
       "      <th></th>\n",
       "      <th>Age</th>\n",
       "      <th>total</th>\n",
       "      <th>Yes Because of the coronavirus pandemic</th>\n",
       "      <th>Yes but Not because of the coronavirus pandemic</th>\n",
       "      <th>Yes Did not report</th>\n",
       "      <th>No</th>\n",
       "      <th>No Did Not Report</th>\n",
       "    </tr>\n",
       "  </thead>\n",
       "  <tbody>\n",
       "    <tr>\n",
       "      <th>3</th>\n",
       "      <td>18 - 24</td>\n",
       "      <td>21264507.0</td>\n",
       "      <td>5434912.0</td>\n",
       "      <td>1085290.0</td>\n",
       "      <td>7244</td>\n",
       "      <td>14564928.0</td>\n",
       "      <td>172134</td>\n",
       "    </tr>\n",
       "    <tr>\n",
       "      <th>4</th>\n",
       "      <td>25 - 39</td>\n",
       "      <td>67294562.0</td>\n",
       "      <td>22187919.0</td>\n",
       "      <td>3037748.0</td>\n",
       "      <td>36177</td>\n",
       "      <td>41500138.0</td>\n",
       "      <td>532580</td>\n",
       "    </tr>\n",
       "    <tr>\n",
       "      <th>5</th>\n",
       "      <td>40 - 54</td>\n",
       "      <td>63249602.0</td>\n",
       "      <td>19298418.0</td>\n",
       "      <td>3962771.0</td>\n",
       "      <td>66621</td>\n",
       "      <td>39387033.0</td>\n",
       "      <td>534759</td>\n",
       "    </tr>\n",
       "    <tr>\n",
       "      <th>6</th>\n",
       "      <td>55 - 64</td>\n",
       "      <td>42707062.0</td>\n",
       "      <td>10370888.0</td>\n",
       "      <td>2232608.0</td>\n",
       "      <td>40581</td>\n",
       "      <td>29653416.0</td>\n",
       "      <td>409570</td>\n",
       "    </tr>\n",
       "    <tr>\n",
       "      <th>7</th>\n",
       "      <td>65 and above</td>\n",
       "      <td>55749716.0</td>\n",
       "      <td>5543969.0</td>\n",
       "      <td>1882761.0</td>\n",
       "      <td>115575</td>\n",
       "      <td>47119264.0</td>\n",
       "      <td>1088148</td>\n",
       "    </tr>\n",
       "  </tbody>\n",
       "</table>\n",
       "</div>"
      ],
      "text/plain": [
       "                Age       total  Yes Because of the coronavirus pandemic  \\\n",
       "3           18 - 24  21264507.0                                5434912.0   \n",
       "4           25 - 39  67294562.0                               22187919.0   \n",
       "5           40 - 54  63249602.0                               19298418.0   \n",
       "6           55 - 64  42707062.0                               10370888.0   \n",
       "7      65 and above  55749716.0                                5543969.0   \n",
       "\n",
       "   Yes but Not because of the coronavirus pandemic Yes Did not report  \\\n",
       "3                                        1085290.0               7244   \n",
       "4                                        3037748.0              36177   \n",
       "5                                        3962771.0              66621   \n",
       "6                                        2232608.0              40581   \n",
       "7                                        1882761.0             115575   \n",
       "\n",
       "           No No Did Not Report  \n",
       "3  14564928.0            172134  \n",
       "4  41500138.0            532580  \n",
       "5  39387033.0            534759  \n",
       "6  29653416.0            409570  \n",
       "7  47119264.0           1088148  "
      ]
     },
     "execution_count": 5,
     "metadata": {},
     "output_type": "execute_result"
    }
   ],
   "source": [
    "TWDP_age_df = TWDP_df[3:8]\n",
    "\n",
    "TWDP_age_df.rename(columns={'Select characteristics': 'Age'}, inplace=True)\n",
    "\n",
    "TWDP_age_df"
   ]
  },
  {
   "cell_type": "code",
   "execution_count": 6,
   "metadata": {},
   "outputs": [],
   "source": [
    "# This breaks up a dataset that is just lists of statements and the percentage of surveyed people who agreed\n",
    "#  This breaks it down into two dataframes that are readable\n",
    "advantagesDict = {}\n",
    "challengesDict = {}\n",
    "with open(r'Data_Sources\\Top_Adv_Chlng.csv', 'r') as file:\n",
    "    lineNumber = 0\n",
    "    for line in file.readlines():\n",
    "        lineNumber += 1\n",
    "        if lineNumber in [3, 4, 5, 6, 7]:\n",
    "            lineParts = line.strip().split(',')\n",
    "            advantagesDict[lineParts[0]] = lineParts[1]\n",
    "        elif lineNumber in [10, 11, 12, 13, 14, 15]:\n",
    "            lineParts = line.strip().split(',')\n",
    "            challengesDict[lineParts[0]] = lineParts[1]\n",
    "        elif lineNumber == 16:\n",
    "            lineParts = line.strip().split(',')\n",
    "            key = f'{lineParts[0]},{lineParts[1]}'\n",
    "            challengesDict[key] = lineParts[2]\n",
    "\n",
    "adv_df_setup = {'Top Advantages': advantagesDict.keys(), \n",
    "            '% Selected as Benefits': advantagesDict.values()}\n",
    " \n",
    "challenge_df_setup = {'Top Challenges': challengesDict.keys(), \n",
    "            '% Selected as Challenges': challengesDict.values()}\n",
    "\n",
    "adv_df = pd.DataFrame(adv_df_setup)\n",
    "challenge_df = pd.DataFrame(challenge_df_setup)"
   ]
  },
  {
   "cell_type": "code",
   "execution_count": 8,
   "metadata": {},
   "outputs": [
    {
     "data": {
      "text/html": [
       "<div>\n",
       "<style scoped>\n",
       "    .dataframe tbody tr th:only-of-type {\n",
       "        vertical-align: middle;\n",
       "    }\n",
       "\n",
       "    .dataframe tbody tr th {\n",
       "        vertical-align: top;\n",
       "    }\n",
       "\n",
       "    .dataframe thead th {\n",
       "        text-align: right;\n",
       "    }\n",
       "</style>\n",
       "<table border=\"1\" class=\"dataframe\">\n",
       "  <thead>\n",
       "    <tr style=\"text-align: right;\">\n",
       "      <th></th>\n",
       "      <th>Top Advantages</th>\n",
       "      <th>% Selected as Benefits</th>\n",
       "    </tr>\n",
       "  </thead>\n",
       "  <tbody>\n",
       "    <tr>\n",
       "      <th>0</th>\n",
       "      <td>Improved work-life balance</td>\n",
       "      <td>76</td>\n",
       "    </tr>\n",
       "    <tr>\n",
       "      <th>1</th>\n",
       "      <td>More efficient use of my time throughout the d...</td>\n",
       "      <td>64</td>\n",
       "    </tr>\n",
       "    <tr>\n",
       "      <th>2</th>\n",
       "      <td>Less burnout or fatigue at work</td>\n",
       "      <td>61</td>\n",
       "    </tr>\n",
       "    <tr>\n",
       "      <th>3</th>\n",
       "      <td>More freedom to choose when or where I work</td>\n",
       "      <td>57</td>\n",
       "    </tr>\n",
       "    <tr>\n",
       "      <th>4</th>\n",
       "      <td>Higher productivity</td>\n",
       "      <td>52</td>\n",
       "    </tr>\n",
       "  </tbody>\n",
       "</table>\n",
       "</div>"
      ],
      "text/plain": [
       "                                      Top Advantages % Selected as Benefits\n",
       "0                         Improved work-life balance                     76\n",
       "1  More efficient use of my time throughout the d...                     64\n",
       "2                    Less burnout or fatigue at work                     61\n",
       "3        More freedom to choose when or where I work                     57\n",
       "4                                Higher productivity                     52"
      ]
     },
     "execution_count": 8,
     "metadata": {},
     "output_type": "execute_result"
    }
   ],
   "source": [
    "adv_df"
   ]
  },
  {
   "cell_type": "code",
   "execution_count": 9,
   "metadata": {},
   "outputs": [
    {
     "data": {
      "text/html": [
       "<div>\n",
       "<style scoped>\n",
       "    .dataframe tbody tr th:only-of-type {\n",
       "        vertical-align: middle;\n",
       "    }\n",
       "\n",
       "    .dataframe tbody tr th {\n",
       "        vertical-align: top;\n",
       "    }\n",
       "\n",
       "    .dataframe thead th {\n",
       "        text-align: right;\n",
       "    }\n",
       "</style>\n",
       "<table border=\"1\" class=\"dataframe\">\n",
       "  <thead>\n",
       "    <tr style=\"text-align: right;\">\n",
       "      <th></th>\n",
       "      <th>Top Challenges</th>\n",
       "      <th>% Selected as Challenges</th>\n",
       "    </tr>\n",
       "  </thead>\n",
       "  <tbody>\n",
       "    <tr>\n",
       "      <th>0</th>\n",
       "      <td>Less access to work resources and equipment</td>\n",
       "      <td>31</td>\n",
       "    </tr>\n",
       "    <tr>\n",
       "      <th>1</th>\n",
       "      <td>Feel less connected to my organization's culture</td>\n",
       "      <td>28</td>\n",
       "    </tr>\n",
       "    <tr>\n",
       "      <th>2</th>\n",
       "      <td>Decreased collaboration with my team</td>\n",
       "      <td>24</td>\n",
       "    </tr>\n",
       "    <tr>\n",
       "      <th>3</th>\n",
       "      <td>Impaired working relationship with coworkers</td>\n",
       "      <td>21</td>\n",
       "    </tr>\n",
       "    <tr>\n",
       "      <th>4</th>\n",
       "      <td>Reduced cross-functional communication and col...</td>\n",
       "      <td>18</td>\n",
       "    </tr>\n",
       "    <tr>\n",
       "      <th>5</th>\n",
       "      <td>Disrupted processes</td>\n",
       "      <td>17</td>\n",
       "    </tr>\n",
       "    <tr>\n",
       "      <th>6</th>\n",
       "      <td>\"More difficult to coordinate work schedules, ...</td>\n",
       "      <td>17</td>\n",
       "    </tr>\n",
       "  </tbody>\n",
       "</table>\n",
       "</div>"
      ],
      "text/plain": [
       "                                      Top Challenges % Selected as Challenges\n",
       "0        Less access to work resources and equipment                       31\n",
       "1   Feel less connected to my organization's culture                       28\n",
       "2               Decreased collaboration with my team                       24\n",
       "3       Impaired working relationship with coworkers                       21\n",
       "4  Reduced cross-functional communication and col...                       18\n",
       "5                                Disrupted processes                       17\n",
       "6  \"More difficult to coordinate work schedules, ...                       17"
      ]
     },
     "execution_count": 9,
     "metadata": {},
     "output_type": "execute_result"
    }
   ],
   "source": [
    "challenge_df"
   ]
  },
  {
   "cell_type": "code",
   "execution_count": 7,
   "metadata": {},
   "outputs": [
    {
     "data": {
      "text/html": [
       "<div>\n",
       "<style scoped>\n",
       "    .dataframe tbody tr th:only-of-type {\n",
       "        vertical-align: middle;\n",
       "    }\n",
       "\n",
       "    .dataframe tbody tr th {\n",
       "        vertical-align: top;\n",
       "    }\n",
       "\n",
       "    .dataframe thead th {\n",
       "        text-align: right;\n",
       "    }\n",
       "</style>\n",
       "<table border=\"1\" class=\"dataframe\">\n",
       "  <thead>\n",
       "    <tr style=\"text-align: right;\">\n",
       "      <th></th>\n",
       "      <th>Industry</th>\n",
       "      <th>Percentage point increase in remote workers</th>\n",
       "      <th>Excess TFP Growth</th>\n",
       "      <th>2019 output</th>\n",
       "    </tr>\n",
       "  </thead>\n",
       "  <tbody>\n",
       "    <tr>\n",
       "      <th>0</th>\n",
       "      <td>Crop &amp; animal production (Farms)</td>\n",
       "      <td>0.7</td>\n",
       "      <td>0.228275</td>\n",
       "      <td>300.6</td>\n",
       "    </tr>\n",
       "    <tr>\n",
       "      <th>1</th>\n",
       "      <td>Warehousing and storage</td>\n",
       "      <td>3.1</td>\n",
       "      <td>-1.161736</td>\n",
       "      <td>127.6</td>\n",
       "    </tr>\n",
       "    <tr>\n",
       "      <th>2</th>\n",
       "      <td>Food services and drinking places</td>\n",
       "      <td>3.4</td>\n",
       "      <td>0.986688</td>\n",
       "      <td>708.9</td>\n",
       "    </tr>\n",
       "    <tr>\n",
       "      <th>3</th>\n",
       "      <td>Truck transportation</td>\n",
       "      <td>3.5</td>\n",
       "      <td>1.344579</td>\n",
       "      <td>397.6</td>\n",
       "    </tr>\n",
       "    <tr>\n",
       "      <th>4</th>\n",
       "      <td>Other services, except government</td>\n",
       "      <td>3.7</td>\n",
       "      <td>0.153014</td>\n",
       "      <td>660.7</td>\n",
       "    </tr>\n",
       "    <tr>\n",
       "      <th>...</th>\n",
       "      <td>...</td>\n",
       "      <td>...</td>\n",
       "      <td>...</td>\n",
       "      <td>...</td>\n",
       "    </tr>\n",
       "    <tr>\n",
       "      <th>57</th>\n",
       "      <td>Funds, trusts, and other financial vehicles</td>\n",
       "      <td>37.3</td>\n",
       "      <td>10.227358</td>\n",
       "      <td>136.1</td>\n",
       "    </tr>\n",
       "    <tr>\n",
       "      <th>58</th>\n",
       "      <td>Publishing industries, except internet (includ...</td>\n",
       "      <td>38.6</td>\n",
       "      <td>3.507028</td>\n",
       "      <td>390.2</td>\n",
       "    </tr>\n",
       "    <tr>\n",
       "      <th>59</th>\n",
       "      <td>Computer systems design and related services</td>\n",
       "      <td>42.6</td>\n",
       "      <td>1.276629</td>\n",
       "      <td>515.8</td>\n",
       "    </tr>\n",
       "    <tr>\n",
       "      <th>60</th>\n",
       "      <td>Data processing, internet publishing, and othe...</td>\n",
       "      <td>44.2</td>\n",
       "      <td>4.998472</td>\n",
       "      <td>461.7</td>\n",
       "    </tr>\n",
       "    <tr>\n",
       "      <th>61</th>\n",
       "      <td>NaN</td>\n",
       "      <td>NaN</td>\n",
       "      <td>NaN</td>\n",
       "      <td>NaN</td>\n",
       "    </tr>\n",
       "  </tbody>\n",
       "</table>\n",
       "<p>62 rows × 4 columns</p>\n",
       "</div>"
      ],
      "text/plain": [
       "                                             Industry  \\\n",
       "0                    Crop & animal production (Farms)   \n",
       "1                             Warehousing and storage   \n",
       "2                   Food services and drinking places   \n",
       "3                                Truck transportation   \n",
       "4                   Other services, except government   \n",
       "..                                                ...   \n",
       "57        Funds, trusts, and other financial vehicles   \n",
       "58  Publishing industries, except internet (includ...   \n",
       "59       Computer systems design and related services   \n",
       "60  Data processing, internet publishing, and othe...   \n",
       "61                                                NaN   \n",
       "\n",
       "    Percentage point increase in remote workers  Excess TFP Growth  \\\n",
       "0                                           0.7           0.228275   \n",
       "1                                           3.1          -1.161736   \n",
       "2                                           3.4           0.986688   \n",
       "3                                           3.5           1.344579   \n",
       "4                                           3.7           0.153014   \n",
       "..                                          ...                ...   \n",
       "57                                         37.3          10.227358   \n",
       "58                                         38.6           3.507028   \n",
       "59                                         42.6           1.276629   \n",
       "60                                         44.2           4.998472   \n",
       "61                                          NaN                NaN   \n",
       "\n",
       "    2019 output  \n",
       "0         300.6  \n",
       "1         127.6  \n",
       "2         708.9  \n",
       "3         397.6  \n",
       "4         660.7  \n",
       "..          ...  \n",
       "57        136.1  \n",
       "58        390.2  \n",
       "59        515.8  \n",
       "60        461.7  \n",
       "61          NaN  \n",
       "\n",
       "[62 rows x 4 columns]"
      ]
     },
     "execution_count": 7,
     "metadata": {},
     "output_type": "execute_result"
    }
   ],
   "source": [
    "# This is a new dataset, it has no nulls and does not appear to need cleaning\n",
    "remoteProductivityRelationDf = pd.read_csv(r'Data_Sources\\ProductivityandRemoteRelation.csv')\n",
    "# remoteProductivityRelationDf.info()\n",
    "remoteProductivityRelationDf"
   ]
  },
  {
   "cell_type": "code",
   "execution_count": 10,
   "metadata": {},
   "outputs": [
    {
     "data": {
      "text/html": [
       "<div>\n",
       "<style scoped>\n",
       "    .dataframe tbody tr th:only-of-type {\n",
       "        vertical-align: middle;\n",
       "    }\n",
       "\n",
       "    .dataframe tbody tr th {\n",
       "        vertical-align: top;\n",
       "    }\n",
       "\n",
       "    .dataframe thead th {\n",
       "        text-align: right;\n",
       "    }\n",
       "</style>\n",
       "<table border=\"1\" class=\"dataframe\">\n",
       "  <thead>\n",
       "    <tr style=\"text-align: right;\">\n",
       "      <th></th>\n",
       "      <th>Employee_ID</th>\n",
       "      <th>Employment_Type</th>\n",
       "      <th>Hours_Worked_Per_Week</th>\n",
       "      <th>Productivity_Score</th>\n",
       "      <th>Well_Being_Score</th>\n",
       "    </tr>\n",
       "  </thead>\n",
       "  <tbody>\n",
       "    <tr>\n",
       "      <th>0</th>\n",
       "      <td>1</td>\n",
       "      <td>Remote</td>\n",
       "      <td>29</td>\n",
       "      <td>75</td>\n",
       "      <td>78</td>\n",
       "    </tr>\n",
       "    <tr>\n",
       "      <th>1</th>\n",
       "      <td>2</td>\n",
       "      <td>In-Office</td>\n",
       "      <td>45</td>\n",
       "      <td>49</td>\n",
       "      <td>47</td>\n",
       "    </tr>\n",
       "    <tr>\n",
       "      <th>2</th>\n",
       "      <td>3</td>\n",
       "      <td>Remote</td>\n",
       "      <td>34</td>\n",
       "      <td>74</td>\n",
       "      <td>89</td>\n",
       "    </tr>\n",
       "    <tr>\n",
       "      <th>3</th>\n",
       "      <td>4</td>\n",
       "      <td>Remote</td>\n",
       "      <td>25</td>\n",
       "      <td>81</td>\n",
       "      <td>84</td>\n",
       "    </tr>\n",
       "    <tr>\n",
       "      <th>4</th>\n",
       "      <td>5</td>\n",
       "      <td>Remote</td>\n",
       "      <td>50</td>\n",
       "      <td>70</td>\n",
       "      <td>74</td>\n",
       "    </tr>\n",
       "    <tr>\n",
       "      <th>...</th>\n",
       "      <td>...</td>\n",
       "      <td>...</td>\n",
       "      <td>...</td>\n",
       "      <td>...</td>\n",
       "      <td>...</td>\n",
       "    </tr>\n",
       "    <tr>\n",
       "      <th>995</th>\n",
       "      <td>996</td>\n",
       "      <td>Remote</td>\n",
       "      <td>33</td>\n",
       "      <td>88</td>\n",
       "      <td>82</td>\n",
       "    </tr>\n",
       "    <tr>\n",
       "      <th>996</th>\n",
       "      <td>997</td>\n",
       "      <td>Remote</td>\n",
       "      <td>33</td>\n",
       "      <td>88</td>\n",
       "      <td>73</td>\n",
       "    </tr>\n",
       "    <tr>\n",
       "      <th>997</th>\n",
       "      <td>998</td>\n",
       "      <td>In-Office</td>\n",
       "      <td>45</td>\n",
       "      <td>74</td>\n",
       "      <td>61</td>\n",
       "    </tr>\n",
       "    <tr>\n",
       "      <th>998</th>\n",
       "      <td>999</td>\n",
       "      <td>In-Office</td>\n",
       "      <td>57</td>\n",
       "      <td>50</td>\n",
       "      <td>52</td>\n",
       "    </tr>\n",
       "    <tr>\n",
       "      <th>999</th>\n",
       "      <td>1000</td>\n",
       "      <td>Remote</td>\n",
       "      <td>34</td>\n",
       "      <td>80</td>\n",
       "      <td>82</td>\n",
       "    </tr>\n",
       "  </tbody>\n",
       "</table>\n",
       "<p>1000 rows × 5 columns</p>\n",
       "</div>"
      ],
      "text/plain": [
       "     Employee_ID Employment_Type  Hours_Worked_Per_Week  Productivity_Score  \\\n",
       "0              1          Remote                     29                  75   \n",
       "1              2       In-Office                     45                  49   \n",
       "2              3          Remote                     34                  74   \n",
       "3              4          Remote                     25                  81   \n",
       "4              5          Remote                     50                  70   \n",
       "..           ...             ...                    ...                 ...   \n",
       "995          996          Remote                     33                  88   \n",
       "996          997          Remote                     33                  88   \n",
       "997          998       In-Office                     45                  74   \n",
       "998          999       In-Office                     57                  50   \n",
       "999         1000          Remote                     34                  80   \n",
       "\n",
       "     Well_Being_Score  \n",
       "0                  78  \n",
       "1                  47  \n",
       "2                  89  \n",
       "3                  84  \n",
       "4                  74  \n",
       "..                ...  \n",
       "995                82  \n",
       "996                73  \n",
       "997                61  \n",
       "998                52  \n",
       "999                82  \n",
       "\n",
       "[1000 rows x 5 columns]"
      ]
     },
     "execution_count": 10,
     "metadata": {},
     "output_type": "execute_result"
    }
   ],
   "source": [
    "productiviy_df"
   ]
  },
  {
   "cell_type": "code",
   "execution_count": 11,
   "metadata": {},
   "outputs": [
    {
     "data": {
      "text/html": [
       "<div>\n",
       "<style scoped>\n",
       "    .dataframe tbody tr th:only-of-type {\n",
       "        vertical-align: middle;\n",
       "    }\n",
       "\n",
       "    .dataframe tbody tr th {\n",
       "        vertical-align: top;\n",
       "    }\n",
       "\n",
       "    .dataframe thead th {\n",
       "        text-align: right;\n",
       "    }\n",
       "</style>\n",
       "<table border=\"1\" class=\"dataframe\">\n",
       "  <thead>\n",
       "    <tr style=\"text-align: right;\">\n",
       "      <th></th>\n",
       "      <th>Employee_ID</th>\n",
       "      <th>Age</th>\n",
       "      <th>Gender</th>\n",
       "      <th>Job_Role</th>\n",
       "      <th>Industry</th>\n",
       "      <th>Years_of_Experience</th>\n",
       "      <th>Work_Location</th>\n",
       "      <th>Hours_Worked_Per_Week</th>\n",
       "      <th>Number_of_Virtual_Meetings</th>\n",
       "      <th>Work_Life_Balance_Rating</th>\n",
       "      <th>Stress_Level</th>\n",
       "      <th>Mental_Health_Condition</th>\n",
       "      <th>Access_to_Mental_Health_Resources</th>\n",
       "      <th>Productivity_Change</th>\n",
       "      <th>Social_Isolation_Rating</th>\n",
       "      <th>Satisfaction_with_Remote_Work</th>\n",
       "      <th>Company_Support_for_Remote_Work</th>\n",
       "      <th>Physical_Activity</th>\n",
       "      <th>Sleep_Quality</th>\n",
       "      <th>Region</th>\n",
       "    </tr>\n",
       "  </thead>\n",
       "  <tbody>\n",
       "    <tr>\n",
       "      <th>0</th>\n",
       "      <td>EMP0001</td>\n",
       "      <td>32</td>\n",
       "      <td>Non-binary</td>\n",
       "      <td>HR</td>\n",
       "      <td>Healthcare</td>\n",
       "      <td>13</td>\n",
       "      <td>Hybrid</td>\n",
       "      <td>47</td>\n",
       "      <td>7</td>\n",
       "      <td>2</td>\n",
       "      <td>Medium</td>\n",
       "      <td>Depression</td>\n",
       "      <td>No</td>\n",
       "      <td>Decrease</td>\n",
       "      <td>1</td>\n",
       "      <td>Unsatisfied</td>\n",
       "      <td>1</td>\n",
       "      <td>Weekly</td>\n",
       "      <td>Good</td>\n",
       "      <td>Europe</td>\n",
       "    </tr>\n",
       "    <tr>\n",
       "      <th>1</th>\n",
       "      <td>EMP0002</td>\n",
       "      <td>40</td>\n",
       "      <td>Female</td>\n",
       "      <td>Data Scientist</td>\n",
       "      <td>IT</td>\n",
       "      <td>3</td>\n",
       "      <td>Remote</td>\n",
       "      <td>52</td>\n",
       "      <td>4</td>\n",
       "      <td>1</td>\n",
       "      <td>Medium</td>\n",
       "      <td>Anxiety</td>\n",
       "      <td>No</td>\n",
       "      <td>Increase</td>\n",
       "      <td>3</td>\n",
       "      <td>Satisfied</td>\n",
       "      <td>2</td>\n",
       "      <td>Weekly</td>\n",
       "      <td>Good</td>\n",
       "      <td>Asia</td>\n",
       "    </tr>\n",
       "    <tr>\n",
       "      <th>2</th>\n",
       "      <td>EMP0003</td>\n",
       "      <td>59</td>\n",
       "      <td>Non-binary</td>\n",
       "      <td>Software Engineer</td>\n",
       "      <td>Education</td>\n",
       "      <td>22</td>\n",
       "      <td>Hybrid</td>\n",
       "      <td>46</td>\n",
       "      <td>11</td>\n",
       "      <td>5</td>\n",
       "      <td>Medium</td>\n",
       "      <td>Anxiety</td>\n",
       "      <td>No</td>\n",
       "      <td>No Change</td>\n",
       "      <td>4</td>\n",
       "      <td>Unsatisfied</td>\n",
       "      <td>5</td>\n",
       "      <td>NaN</td>\n",
       "      <td>Poor</td>\n",
       "      <td>North America</td>\n",
       "    </tr>\n",
       "    <tr>\n",
       "      <th>3</th>\n",
       "      <td>EMP0004</td>\n",
       "      <td>27</td>\n",
       "      <td>Male</td>\n",
       "      <td>Software Engineer</td>\n",
       "      <td>Finance</td>\n",
       "      <td>20</td>\n",
       "      <td>Onsite</td>\n",
       "      <td>32</td>\n",
       "      <td>8</td>\n",
       "      <td>4</td>\n",
       "      <td>High</td>\n",
       "      <td>Depression</td>\n",
       "      <td>Yes</td>\n",
       "      <td>Increase</td>\n",
       "      <td>3</td>\n",
       "      <td>Unsatisfied</td>\n",
       "      <td>3</td>\n",
       "      <td>NaN</td>\n",
       "      <td>Poor</td>\n",
       "      <td>Europe</td>\n",
       "    </tr>\n",
       "    <tr>\n",
       "      <th>4</th>\n",
       "      <td>EMP0005</td>\n",
       "      <td>49</td>\n",
       "      <td>Male</td>\n",
       "      <td>Sales</td>\n",
       "      <td>Consulting</td>\n",
       "      <td>32</td>\n",
       "      <td>Onsite</td>\n",
       "      <td>35</td>\n",
       "      <td>12</td>\n",
       "      <td>2</td>\n",
       "      <td>High</td>\n",
       "      <td>NaN</td>\n",
       "      <td>Yes</td>\n",
       "      <td>Decrease</td>\n",
       "      <td>3</td>\n",
       "      <td>Unsatisfied</td>\n",
       "      <td>3</td>\n",
       "      <td>Weekly</td>\n",
       "      <td>Average</td>\n",
       "      <td>North America</td>\n",
       "    </tr>\n",
       "    <tr>\n",
       "      <th>...</th>\n",
       "      <td>...</td>\n",
       "      <td>...</td>\n",
       "      <td>...</td>\n",
       "      <td>...</td>\n",
       "      <td>...</td>\n",
       "      <td>...</td>\n",
       "      <td>...</td>\n",
       "      <td>...</td>\n",
       "      <td>...</td>\n",
       "      <td>...</td>\n",
       "      <td>...</td>\n",
       "      <td>...</td>\n",
       "      <td>...</td>\n",
       "      <td>...</td>\n",
       "      <td>...</td>\n",
       "      <td>...</td>\n",
       "      <td>...</td>\n",
       "      <td>...</td>\n",
       "      <td>...</td>\n",
       "      <td>...</td>\n",
       "    </tr>\n",
       "    <tr>\n",
       "      <th>4995</th>\n",
       "      <td>EMP4996</td>\n",
       "      <td>32</td>\n",
       "      <td>Male</td>\n",
       "      <td>Sales</td>\n",
       "      <td>Consulting</td>\n",
       "      <td>4</td>\n",
       "      <td>Onsite</td>\n",
       "      <td>24</td>\n",
       "      <td>2</td>\n",
       "      <td>5</td>\n",
       "      <td>High</td>\n",
       "      <td>Burnout</td>\n",
       "      <td>Yes</td>\n",
       "      <td>Decrease</td>\n",
       "      <td>4</td>\n",
       "      <td>Neutral</td>\n",
       "      <td>1</td>\n",
       "      <td>Weekly</td>\n",
       "      <td>Average</td>\n",
       "      <td>Asia</td>\n",
       "    </tr>\n",
       "    <tr>\n",
       "      <th>4996</th>\n",
       "      <td>EMP4997</td>\n",
       "      <td>39</td>\n",
       "      <td>Female</td>\n",
       "      <td>Sales</td>\n",
       "      <td>Healthcare</td>\n",
       "      <td>27</td>\n",
       "      <td>Onsite</td>\n",
       "      <td>48</td>\n",
       "      <td>15</td>\n",
       "      <td>1</td>\n",
       "      <td>Low</td>\n",
       "      <td>Depression</td>\n",
       "      <td>Yes</td>\n",
       "      <td>Decrease</td>\n",
       "      <td>1</td>\n",
       "      <td>Satisfied</td>\n",
       "      <td>1</td>\n",
       "      <td>NaN</td>\n",
       "      <td>Average</td>\n",
       "      <td>Africa</td>\n",
       "    </tr>\n",
       "    <tr>\n",
       "      <th>4997</th>\n",
       "      <td>EMP4998</td>\n",
       "      <td>42</td>\n",
       "      <td>Female</td>\n",
       "      <td>Sales</td>\n",
       "      <td>Healthcare</td>\n",
       "      <td>21</td>\n",
       "      <td>Hybrid</td>\n",
       "      <td>34</td>\n",
       "      <td>1</td>\n",
       "      <td>4</td>\n",
       "      <td>High</td>\n",
       "      <td>Burnout</td>\n",
       "      <td>No</td>\n",
       "      <td>Increase</td>\n",
       "      <td>3</td>\n",
       "      <td>Satisfied</td>\n",
       "      <td>1</td>\n",
       "      <td>Daily</td>\n",
       "      <td>Poor</td>\n",
       "      <td>Oceania</td>\n",
       "    </tr>\n",
       "    <tr>\n",
       "      <th>4998</th>\n",
       "      <td>EMP4999</td>\n",
       "      <td>27</td>\n",
       "      <td>Female</td>\n",
       "      <td>Sales</td>\n",
       "      <td>Healthcare</td>\n",
       "      <td>26</td>\n",
       "      <td>Remote</td>\n",
       "      <td>58</td>\n",
       "      <td>0</td>\n",
       "      <td>5</td>\n",
       "      <td>Low</td>\n",
       "      <td>NaN</td>\n",
       "      <td>Yes</td>\n",
       "      <td>Increase</td>\n",
       "      <td>3</td>\n",
       "      <td>Unsatisfied</td>\n",
       "      <td>4</td>\n",
       "      <td>Daily</td>\n",
       "      <td>Average</td>\n",
       "      <td>Asia</td>\n",
       "    </tr>\n",
       "    <tr>\n",
       "      <th>4999</th>\n",
       "      <td>EMP5000</td>\n",
       "      <td>29</td>\n",
       "      <td>Male</td>\n",
       "      <td>HR</td>\n",
       "      <td>IT</td>\n",
       "      <td>30</td>\n",
       "      <td>Onsite</td>\n",
       "      <td>20</td>\n",
       "      <td>15</td>\n",
       "      <td>1</td>\n",
       "      <td>Low</td>\n",
       "      <td>Depression</td>\n",
       "      <td>Yes</td>\n",
       "      <td>No Change</td>\n",
       "      <td>3</td>\n",
       "      <td>Unsatisfied</td>\n",
       "      <td>5</td>\n",
       "      <td>NaN</td>\n",
       "      <td>Poor</td>\n",
       "      <td>Asia</td>\n",
       "    </tr>\n",
       "  </tbody>\n",
       "</table>\n",
       "<p>5000 rows × 20 columns</p>\n",
       "</div>"
      ],
      "text/plain": [
       "     Employee_ID  Age      Gender           Job_Role    Industry  \\\n",
       "0        EMP0001   32  Non-binary                 HR  Healthcare   \n",
       "1        EMP0002   40      Female     Data Scientist          IT   \n",
       "2        EMP0003   59  Non-binary  Software Engineer   Education   \n",
       "3        EMP0004   27        Male  Software Engineer     Finance   \n",
       "4        EMP0005   49        Male              Sales  Consulting   \n",
       "...          ...  ...         ...                ...         ...   \n",
       "4995     EMP4996   32        Male              Sales  Consulting   \n",
       "4996     EMP4997   39      Female              Sales  Healthcare   \n",
       "4997     EMP4998   42      Female              Sales  Healthcare   \n",
       "4998     EMP4999   27      Female              Sales  Healthcare   \n",
       "4999     EMP5000   29        Male                 HR          IT   \n",
       "\n",
       "      Years_of_Experience Work_Location  Hours_Worked_Per_Week  \\\n",
       "0                      13        Hybrid                     47   \n",
       "1                       3        Remote                     52   \n",
       "2                      22        Hybrid                     46   \n",
       "3                      20        Onsite                     32   \n",
       "4                      32        Onsite                     35   \n",
       "...                   ...           ...                    ...   \n",
       "4995                    4        Onsite                     24   \n",
       "4996                   27        Onsite                     48   \n",
       "4997                   21        Hybrid                     34   \n",
       "4998                   26        Remote                     58   \n",
       "4999                   30        Onsite                     20   \n",
       "\n",
       "      Number_of_Virtual_Meetings  Work_Life_Balance_Rating Stress_Level  \\\n",
       "0                              7                         2       Medium   \n",
       "1                              4                         1       Medium   \n",
       "2                             11                         5       Medium   \n",
       "3                              8                         4         High   \n",
       "4                             12                         2         High   \n",
       "...                          ...                       ...          ...   \n",
       "4995                           2                         5         High   \n",
       "4996                          15                         1          Low   \n",
       "4997                           1                         4         High   \n",
       "4998                           0                         5          Low   \n",
       "4999                          15                         1          Low   \n",
       "\n",
       "     Mental_Health_Condition Access_to_Mental_Health_Resources  \\\n",
       "0                 Depression                                No   \n",
       "1                    Anxiety                                No   \n",
       "2                    Anxiety                                No   \n",
       "3                 Depression                               Yes   \n",
       "4                        NaN                               Yes   \n",
       "...                      ...                               ...   \n",
       "4995                 Burnout                               Yes   \n",
       "4996              Depression                               Yes   \n",
       "4997                 Burnout                                No   \n",
       "4998                     NaN                               Yes   \n",
       "4999              Depression                               Yes   \n",
       "\n",
       "     Productivity_Change  Social_Isolation_Rating  \\\n",
       "0               Decrease                        1   \n",
       "1               Increase                        3   \n",
       "2              No Change                        4   \n",
       "3               Increase                        3   \n",
       "4               Decrease                        3   \n",
       "...                  ...                      ...   \n",
       "4995            Decrease                        4   \n",
       "4996            Decrease                        1   \n",
       "4997            Increase                        3   \n",
       "4998            Increase                        3   \n",
       "4999           No Change                        3   \n",
       "\n",
       "     Satisfaction_with_Remote_Work  Company_Support_for_Remote_Work  \\\n",
       "0                      Unsatisfied                                1   \n",
       "1                        Satisfied                                2   \n",
       "2                      Unsatisfied                                5   \n",
       "3                      Unsatisfied                                3   \n",
       "4                      Unsatisfied                                3   \n",
       "...                            ...                              ...   \n",
       "4995                       Neutral                                1   \n",
       "4996                     Satisfied                                1   \n",
       "4997                     Satisfied                                1   \n",
       "4998                   Unsatisfied                                4   \n",
       "4999                   Unsatisfied                                5   \n",
       "\n",
       "     Physical_Activity Sleep_Quality         Region  \n",
       "0               Weekly          Good         Europe  \n",
       "1               Weekly          Good           Asia  \n",
       "2                  NaN          Poor  North America  \n",
       "3                  NaN          Poor         Europe  \n",
       "4               Weekly       Average  North America  \n",
       "...                ...           ...            ...  \n",
       "4995            Weekly       Average           Asia  \n",
       "4996               NaN       Average         Africa  \n",
       "4997             Daily          Poor        Oceania  \n",
       "4998             Daily       Average           Asia  \n",
       "4999               NaN          Poor           Asia  \n",
       "\n",
       "[5000 rows x 20 columns]"
      ]
     },
     "execution_count": 11,
     "metadata": {},
     "output_type": "execute_result"
    }
   ],
   "source": [
    "mental_health_df"
   ]
  },
  {
   "cell_type": "markdown",
   "metadata": {},
   "source": [
    "## Visualizations"
   ]
  },
  {
   "cell_type": "code",
   "execution_count": 12,
   "metadata": {},
   "outputs": [
    {
     "data": {
      "text/plain": [
       "<Axes: title={'center': 'Productivity and well being of differnet employee modalities'}, xlabel='Employment_Type'>"
      ]
     },
     "execution_count": 12,
     "metadata": {},
     "output_type": "execute_result"
    },
    {
     "data": {
      "image/png": "[encoded data removed]",
      "text/plain": [
       "<Figure size 640x480 with 1 Axes>"
      ]
     },
     "metadata": {},
     "output_type": "display_data"
    }
   ],
   "source": [
    "# Here are some visualizations to start to get a feel for the data\n",
    "productivityVizDf = productiviy_df[['Employment_Type', 'Hours_Worked_Per_Week', 'Productivity_Score', 'Well_Being_Score']].groupby(['Employment_Type'], as_index=False).mean()\n",
    "\n",
    "productivityVizDf.plot(kind='bar', x='Employment_Type', y=['Hours_Worked_Per_Week', 'Productivity_Score', 'Well_Being_Score'], title='Productivity and well being of differnet employee modalities')"
   ]
  },
  {
   "cell_type": "markdown",
   "metadata": {},
   "source": [
    "This visualization is comparing in office employees to remote employees in three areas: hours worked per week, prodctivity rating, and wellnes rating\n",
    "Importaint insights are that the remote employees have the advantage in every area. They are working less time while being more productive and still reporting\n",
    "higher levels of wellness than in-office employees."
   ]
  },
  {
   "cell_type": "code",
   "execution_count": 13,
   "metadata": {},
   "outputs": [
    {
     "data": {
      "application/vnd.plotly.v1+json": {
       "config": {
        "plotlyServerURL": "https://plot.ly"
       },
       "data": [
        {
         "alignmentgroup": "True",
         "hovertemplate": "Work_Location=%{x}<br>Work_Life_Balance_Rating=%{y}<extra></extra>",
         "legendgroup": "",
         "marker": {
          "color": "#636efa",
          "pattern": {
           "shape": ""
          }
         },
         "name": "",
         "offsetgroup": "",
         "orientation": "v",
         "showlegend": false,
         "textposition": "auto",
         "type": "bar",
         "x": [
          "Hybrid",
          "Onsite",
          "Remote"
         ],
         "xaxis": "x",
         "y": [
          3.0224378411158277,
          2.9468540012217472,
          2.983080513418903
         ],
         "yaxis": "y"
        }
       ],
       "layout": {
        "barmode": "relative",
        "legend": {
         "tracegroupgap": 0
        },
        "template": {
         "data": {
          "bar": [
           {
            "error_x": {
             "color": "#2a3f5f"
            },
            "error_y": {
             "color": "#2a3f5f"
            },
            "marker": {
             "line": {
              "color": "#E5ECF6",
              "width": 0.5
             },
             "pattern": {
              "fillmode": "overlay",
              "size": 10,
              "solidity": 0.2
             }
            },
            "type": "bar"
           }
          ],
          "barpolar": [
           {
            "marker": {
             "line": {
              "color": "#E5ECF6",
              "width": 0.5
             },
             "pattern": {
              "fillmode": "overlay",
              "size": 10,
              "solidity": 0.2
             }
            },
            "type": "barpolar"
           }
          ],
          "carpet": [
           {
            "aaxis": {
             "endlinecolor": "#2a3f5f",
             "gridcolor": "white",
             "linecolor": "white",
             "minorgridcolor": "white",
             "startlinecolor": "#2a3f5f"
            },
            "baxis": {
             "endlinecolor": "#2a3f5f",
             "gridcolor": "white",
             "linecolor": "white",
             "minorgridcolor": "white",
             "startlinecolor": "#2a3f5f"
            },
            "type": "carpet"
           }
          ],
          "choropleth": [
           {
            "colorbar": {
             "outlinewidth": 0,
             "ticks": ""
            },
            "type": "choropleth"
           }
          ],
          "contour": [
           {
            "colorbar": {
             "outlinewidth": 0,
             "ticks": ""
            },
            "colorscale": [
             [
              0,
              "#0d0887"
             ],
             [
              0.1111111111111111,
              "#46039f"
             ],
             [
              0.2222222222222222,
              "#7201a8"
             ],
             [
              0.3333333333333333,
              "#9c179e"
             ],
             [
              0.4444444444444444,
              "#bd3786"
             ],
             [
              0.5555555555555556,
              "#d8576b"
             ],
             [
              0.6666666666666666,
              "#ed7953"
             ],
             [
              0.7777777777777778,
              "#fb9f3a"
             ],
             [
              0.8888888888888888,
              "#fdca26"
             ],
             [
              1,
              "#f0f921"
             ]
            ],
            "type": "contour"
           }
          ],
          "contourcarpet": [
           {
            "colorbar": {
             "outlinewidth": 0,
             "ticks": ""
            },
            "type": "contourcarpet"
           }
          ],
          "heatmap": [
           {
            "colorbar": {
             "outlinewidth": 0,
             "ticks": ""
            },
            "colorscale": [
             [
              0,
              "#0d0887"
             ],
             [
              0.1111111111111111,
              "#46039f"
             ],
             [
              0.2222222222222222,
              "#7201a8"
             ],
             [
              0.3333333333333333,
              "#9c179e"
             ],
             [
              0.4444444444444444,
              "#bd3786"
             ],
             [
              0.5555555555555556,
              "#d8576b"
             ],
             [
              0.6666666666666666,
              "#ed7953"
             ],
             [
              0.7777777777777778,
              "#fb9f3a"
             ],
             [
              0.8888888888888888,
              "#fdca26"
             ],
             [
              1,
              "#f0f921"
             ]
            ],
            "type": "heatmap"
           }
          ],
          "heatmapgl": [
           {
            "colorbar": {
             "outlinewidth": 0,
             "ticks": ""
            },
            "colorscale": [
             [
              0,
              "#0d0887"
             ],
             [
              0.1111111111111111,
              "#46039f"
             ],
             [
              0.2222222222222222,
              "#7201a8"
             ],
             [
              0.3333333333333333,
              "#9c179e"
             ],
             [
              0.4444444444444444,
              "#bd3786"
             ],
             [
              0.5555555555555556,
              "#d8576b"
             ],
             [
              0.6666666666666666,
              "#ed7953"
             ],
             [
              0.7777777777777778,
              "#fb9f3a"
             ],
             [
              0.8888888888888888,
              "#fdca26"
             ],
             [
              1,
              "#f0f921"
             ]
            ],
            "type": "heatmapgl"
           }
          ],
          "histogram": [
           {
            "marker": {
             "pattern": {
              "fillmode": "overlay",
              "size": 10,
              "solidity": 0.2
             }
            },
            "type": "histogram"
           }
          ],
          "histogram2d": [
           {
            "colorbar": {
             "outlinewidth": 0,
             "ticks": ""
            },
            "colorscale": [
             [
              0,
              "#0d0887"
             ],
             [
              0.1111111111111111,
              "#46039f"
             ],
             [
              0.2222222222222222,
              "#7201a8"
             ],
             [
              0.3333333333333333,
              "#9c179e"
             ],
             [
              0.4444444444444444,
              "#bd3786"
             ],
             [
              0.5555555555555556,
              "#d8576b"
             ],
             [
              0.6666666666666666,
              "#ed7953"
             ],
             [
              0.7777777777777778,
              "#fb9f3a"
             ],
             [
              0.8888888888888888,
              "#fdca26"
             ],
             [
              1,
              "#f0f921"
             ]
            ],
            "type": "histogram2d"
           }
          ],
          "histogram2dcontour": [
           {
            "colorbar": {
             "outlinewidth": 0,
             "ticks": ""
            },
            "colorscale": [
             [
              0,
              "#0d0887"
             ],
             [
              0.1111111111111111,
              "#46039f"
             ],
             [
              0.2222222222222222,
              "#7201a8"
             ],
             [
              0.3333333333333333,
              "#9c179e"
             ],
             [
              0.4444444444444444,
              "#bd3786"
             ],
             [
              0.5555555555555556,
              "#d8576b"
             ],
             [
              0.6666666666666666,
              "#ed7953"
             ],
             [
              0.7777777777777778,
              "#fb9f3a"
             ],
             [
              0.8888888888888888,
              "#fdca26"
             ],
             [
              1,
              "#f0f921"
             ]
            ],
            "type": "histogram2dcontour"
           }
          ],
          "mesh3d": [
           {
            "colorbar": {
             "outlinewidth": 0,
             "ticks": ""
            },
            "type": "mesh3d"
           }
          ],
          "parcoords": [
           {
            "line": {
             "colorbar": {
              "outlinewidth": 0,
              "ticks": ""
             }
            },
            "type": "parcoords"
           }
          ],
          "pie": [
           {
            "automargin": true,
            "type": "pie"
           }
          ],
          "scatter": [
           {
            "fillpattern": {
             "fillmode": "overlay",
             "size": 10,
             "solidity": 0.2
            },
            "type": "scatter"
           }
          ],
          "scatter3d": [
           {
            "line": {
             "colorbar": {
              "outlinewidth": 0,
              "ticks": ""
             }
            },
            "marker": {
             "colorbar": {
              "outlinewidth": 0,
              "ticks": ""
             }
            },
            "type": "scatter3d"
           }
          ],
          "scattercarpet": [
           {
            "marker": {
             "colorbar": {
              "outlinewidth": 0,
              "ticks": ""
             }
            },
            "type": "scattercarpet"
           }
          ],
          "scattergeo": [
           {
            "marker": {
             "colorbar": {
              "outlinewidth": 0,
              "ticks": ""
             }
            },
            "type": "scattergeo"
           }
          ],
          "scattergl": [
           {
            "marker": {
             "colorbar": {
              "outlinewidth": 0,
              "ticks": ""
             }
            },
            "type": "scattergl"
           }
          ],
          "scattermapbox": [
           {
            "marker": {
             "colorbar": {
              "outlinewidth": 0,
              "ticks": ""
             }
            },
            "type": "scattermapbox"
           }
          ],
          "scatterpolar": [
           {
            "marker": {
             "colorbar": {
              "outlinewidth": 0,
              "ticks": ""
             }
            },
            "type": "scatterpolar"
           }
          ],
          "scatterpolargl": [
           {
            "marker": {
             "colorbar": {
              "outlinewidth": 0,
              "ticks": ""
             }
            },
            "type": "scatterpolargl"
           }
          ],
          "scatterternary": [
           {
            "marker": {
             "colorbar": {
              "outlinewidth": 0,
              "ticks": ""
             }
            },
            "type": "scatterternary"
           }
          ],
          "surface": [
           {
            "colorbar": {
             "outlinewidth": 0,
             "ticks": ""
            },
            "colorscale": [
             [
              0,
              "#0d0887"
             ],
             [
              0.1111111111111111,
              "#46039f"
             ],
             [
              0.2222222222222222,
              "#7201a8"
             ],
             [
              0.3333333333333333,
              "#9c179e"
             ],
             [
              0.4444444444444444,
              "#bd3786"
             ],
             [
              0.5555555555555556,
              "#d8576b"
             ],
             [
              0.6666666666666666,
              "#ed7953"
             ],
             [
              0.7777777777777778,
              "#fb9f3a"
             ],
             [
              0.8888888888888888,
              "#fdca26"
             ],
             [
              1,
              "#f0f921"
             ]
            ],
            "type": "surface"
           }
          ],
          "table": [
           {
            "cells": {
             "fill": {
              "color": "#EBF0F8"
             },
             "line": {
              "color": "white"
             }
            },
            "header": {
             "fill": {
              "color": "#C8D4E3"
             },
             "line": {
              "color": "white"
             }
            },
            "type": "table"
           }
          ]
         },
         "layout": {
          "annotationdefaults": {
           "arrowcolor": "#2a3f5f",
           "arrowhead": 0,
           "arrowwidth": 1
          },
          "autotypenumbers": "strict",
          "coloraxis": {
           "colorbar": {
            "outlinewidth": 0,
            "ticks": ""
           }
          },
          "colorscale": {
           "diverging": [
            [
             0,
             "#8e0152"
            ],
            [
             0.1,
             "#c51b7d"
            ],
            [
             0.2,
             "#de77ae"
            ],
            [
             0.3,
             "#f1b6da"
            ],
            [
             0.4,
             "#fde0ef"
            ],
            [
             0.5,
             "#f7f7f7"
            ],
            [
             0.6,
             "#e6f5d0"
            ],
            [
             0.7,
             "#b8e186"
            ],
            [
             0.8,
             "#7fbc41"
            ],
            [
             0.9,
             "#4d9221"
            ],
            [
             1,
             "#276419"
            ]
           ],
           "sequential": [
            [
             0,
             "#0d0887"
            ],
            [
             0.1111111111111111,
             "#46039f"
            ],
            [
             0.2222222222222222,
             "#7201a8"
            ],
            [
             0.3333333333333333,
             "#9c179e"
            ],
            [
             0.4444444444444444,
             "#bd3786"
            ],
            [
             0.5555555555555556,
             "#d8576b"
            ],
            [
             0.6666666666666666,
             "#ed7953"
            ],
            [
             0.7777777777777778,
             "#fb9f3a"
            ],
            [
             0.8888888888888888,
             "#fdca26"
            ],
            [
             1,
             "#f0f921"
            ]
           ],
           "sequentialminus": [
            [
             0,
             "#0d0887"
            ],
            [
             0.1111111111111111,
             "#46039f"
            ],
            [
             0.2222222222222222,
             "#7201a8"
            ],
            [
             0.3333333333333333,
             "#9c179e"
            ],
            [
             0.4444444444444444,
             "#bd3786"
            ],
            [
             0.5555555555555556,
             "#d8576b"
            ],
            [
             0.6666666666666666,
             "#ed7953"
            ],
            [
             0.7777777777777778,
             "#fb9f3a"
            ],
            [
             0.8888888888888888,
             "#fdca26"
            ],
            [
             1,
             "#f0f921"
            ]
           ]
          },
          "colorway": [
           "#636efa",
           "#EF553B",
           "#00cc96",
           "#ab63fa",
           "#FFA15A",
           "#19d3f3",
           "#FF6692",
           "#B6E880",
           "#FF97FF",
           "#FECB52"
          ],
          "font": {
           "color": "#2a3f5f"
          },
          "geo": {
           "bgcolor": "white",
           "lakecolor": "white",
           "landcolor": "#E5ECF6",
           "showlakes": true,
           "showland": true,
           "subunitcolor": "white"
          },
          "hoverlabel": {
           "align": "left"
          },
          "hovermode": "closest",
          "mapbox": {
           "style": "light"
          },
          "paper_bgcolor": "white",
          "plot_bgcolor": "#E5ECF6",
          "polar": {
           "angularaxis": {
            "gridcolor": "white",
            "linecolor": "white",
            "ticks": ""
           },
           "bgcolor": "#E5ECF6",
           "radialaxis": {
            "gridcolor": "white",
            "linecolor": "white",
            "ticks": ""
           }
          },
          "scene": {
           "xaxis": {
            "backgroundcolor": "#E5ECF6",
            "gridcolor": "white",
            "gridwidth": 2,
            "linecolor": "white",
            "showbackground": true,
            "ticks": "",
            "zerolinecolor": "white"
           },
           "yaxis": {
            "backgroundcolor": "#E5ECF6",
            "gridcolor": "white",
            "gridwidth": 2,
            "linecolor": "white",
            "showbackground": true,
            "ticks": "",
            "zerolinecolor": "white"
           },
           "zaxis": {
            "backgroundcolor": "#E5ECF6",
            "gridcolor": "white",
            "gridwidth": 2,
            "linecolor": "white",
            "showbackground": true,
            "ticks": "",
            "zerolinecolor": "white"
           }
          },
          "shapedefaults": {
           "line": {
            "color": "#2a3f5f"
           }
          },
          "ternary": {
           "aaxis": {
            "gridcolor": "white",
            "linecolor": "white",
            "ticks": ""
           },
           "baxis": {
            "gridcolor": "white",
            "linecolor": "white",
            "ticks": ""
           },
           "bgcolor": "#E5ECF6",
           "caxis": {
            "gridcolor": "white",
            "linecolor": "white",
            "ticks": ""
           }
          },
          "title": {
           "x": 0.05
          },
          "xaxis": {
           "automargin": true,
           "gridcolor": "white",
           "linecolor": "white",
           "ticks": "",
           "title": {
            "standoff": 15
           },
           "zerolinecolor": "white",
           "zerolinewidth": 2
          },
          "yaxis": {
           "automargin": true,
           "gridcolor": "white",
           "linecolor": "white",
           "ticks": "",
           "title": {
            "standoff": 15
           },
           "zerolinecolor": "white",
           "zerolinewidth": 2
          }
         }
        },
        "title": {
         "text": "Work life balance of different employee modalities"
        },
        "width": 800,
        "xaxis": {
         "anchor": "y",
         "domain": [
          0,
          1
         ],
         "title": {
          "text": "Work_Location"
         }
        },
        "yaxis": {
         "anchor": "x",
         "domain": [
          0,
          1
         ],
         "range": [
          1,
          5
         ],
         "title": {
          "text": "Work_Life_Balance_Rating"
         }
        }
       }
      }
     },
     "metadata": {},
     "output_type": "display_data"
    }
   ],
   "source": [
    "mentalHealthVizOneDf = mental_health_df[['Work_Location', 'Work_Life_Balance_Rating']].groupby(['Work_Location'], as_index=False).mean()\n",
    "\n",
    "# I used plotly here so that the figure was interactive and the user could scroll over to see the differences\n",
    "plot = px.bar(mentalHealthVizOneDf, x='Work_Location', y='Work_Life_Balance_Rating', title='Work life balance of different employee modalities')\n",
    "\n",
    "plot.update_layout(yaxis=dict(range=[1, 5]), width=800)\n",
    "\n",
    "plot.show()"
   ]
  },
  {
   "cell_type": "markdown",
   "metadata": {},
   "source": [
    "This visualization is comparing the rating of work life balance for different types of employees. \n",
    "It seems to show no significant difference in the work life balance of remote vs in person employess."
   ]
  },
  {
   "cell_type": "code",
   "execution_count": 14,
   "metadata": {},
   "outputs": [
    {
     "data": {
      "application/vnd.plotly.v1+json": {
       "config": {
        "plotlyServerURL": "https://plot.ly"
       },
       "data": [
        {
         "branchvalues": "total",
         "customdata": [
          [
           "High"
          ],
          [
           "Low"
          ],
          [
           "Medium"
          ],
          [
           "High"
          ],
          [
           "Low"
          ],
          [
           "Medium"
          ],
          [
           "High"
          ],
          [
           "Low"
          ],
          [
           "Medium"
          ],
          [
           "(?)"
          ],
          [
           "(?)"
          ],
          [
           "(?)"
          ]
         ],
         "domain": {
          "x": [
           0,
           1
          ],
          "y": [
           0,
           1
          ]
         },
         "hovertemplate": "labels=%{label}<br>Count=%{value}<br>parent=%{parent}<br>id=%{id}<br>Stress_Level=%{customdata[0]}<extra></extra>",
         "ids": [
          "Hybrid/High",
          "Hybrid/Low",
          "Hybrid/Medium",
          "Onsite/High",
          "Onsite/Low",
          "Onsite/Medium",
          "Remote/High",
          "Remote/Low",
          "Remote/Medium",
          "Hybrid",
          "Onsite",
          "Remote"
         ],
         "labels": [
          "High",
          "Low",
          "Medium",
          "High",
          "Low",
          "Medium",
          "High",
          "Low",
          "Medium",
          "Hybrid",
          "Onsite",
          "Remote"
         ],
         "marker": {
          "colors": [
           "red",
           "green",
           "orange",
           "red",
           "green",
           "orange",
           "red",
           "green",
           "orange",
           "#ab63fa",
           "#ab63fa",
           "#ab63fa"
          ]
         },
         "name": "",
         "parents": [
          "Hybrid",
          "Hybrid",
          "Hybrid",
          "Onsite",
          "Onsite",
          "Onsite",
          "Remote",
          "Remote",
          "Remote",
          "",
          "",
          ""
         ],
         "type": "sunburst",
         "values": [
          561,
          543,
          545,
          535,
          555,
          547,
          590,
          547,
          577,
          1649,
          1637,
          1714
         ]
        }
       ],
       "layout": {
        "legend": {
         "tracegroupgap": 0
        },
        "margin": {
         "b": 0,
         "l": 0,
         "r": 0,
         "t": 40
        },
        "template": {
         "data": {
          "bar": [
           {
            "error_x": {
             "color": "#2a3f5f"
            },
            "error_y": {
             "color": "#2a3f5f"
            },
            "marker": {
             "line": {
              "color": "#E5ECF6",
              "width": 0.5
             },
             "pattern": {
              "fillmode": "overlay",
              "size": 10,
              "solidity": 0.2
             }
            },
            "type": "bar"
           }
          ],
          "barpolar": [
           {
            "marker": {
             "line": {
              "color": "#E5ECF6",
              "width": 0.5
             },
             "pattern": {
              "fillmode": "overlay",
              "size": 10,
              "solidity": 0.2
             }
            },
            "type": "barpolar"
           }
          ],
          "carpet": [
           {
            "aaxis": {
             "endlinecolor": "#2a3f5f",
             "gridcolor": "white",
             "linecolor": "white",
             "minorgridcolor": "white",
             "startlinecolor": "#2a3f5f"
            },
            "baxis": {
             "endlinecolor": "#2a3f5f",
             "gridcolor": "white",
             "linecolor": "white",
             "minorgridcolor": "white",
             "startlinecolor": "#2a3f5f"
            },
            "type": "carpet"
           }
          ],
          "choropleth": [
           {
            "colorbar": {
             "outlinewidth": 0,
             "ticks": ""
            },
            "type": "choropleth"
           }
          ],
          "contour": [
           {
            "colorbar": {
             "outlinewidth": 0,
             "ticks": ""
            },
            "colorscale": [
             [
              0,
              "#0d0887"
             ],
             [
              0.1111111111111111,
              "#46039f"
             ],
             [
              0.2222222222222222,
              "#7201a8"
             ],
             [
              0.3333333333333333,
              "#9c179e"
             ],
             [
              0.4444444444444444,
              "#bd3786"
             ],
             [
              0.5555555555555556,
              "#d8576b"
             ],
             [
              0.6666666666666666,
              "#ed7953"
             ],
             [
              0.7777777777777778,
              "#fb9f3a"
             ],
             [
              0.8888888888888888,
              "#fdca26"
             ],
             [
              1,
              "#f0f921"
             ]
            ],
            "type": "contour"
           }
          ],
          "contourcarpet": [
           {
            "colorbar": {
             "outlinewidth": 0,
             "ticks": ""
            },
            "type": "contourcarpet"
           }
          ],
          "heatmap": [
           {
            "colorbar": {
             "outlinewidth": 0,
             "ticks": ""
            },
            "colorscale": [
             [
              0,
              "#0d0887"
             ],
             [
              0.1111111111111111,
              "#46039f"
             ],
             [
              0.2222222222222222,
              "#7201a8"
             ],
             [
              0.3333333333333333,
              "#9c179e"
             ],
             [
              0.4444444444444444,
              "#bd3786"
             ],
             [
              0.5555555555555556,
              "#d8576b"
             ],
             [
              0.6666666666666666,
              "#ed7953"
             ],
             [
              0.7777777777777778,
              "#fb9f3a"
             ],
             [
              0.8888888888888888,
              "#fdca26"
             ],
             [
              1,
              "#f0f921"
             ]
            ],
            "type": "heatmap"
           }
          ],
          "heatmapgl": [
           {
            "colorbar": {
             "outlinewidth": 0,
             "ticks": ""
            },
            "colorscale": [
             [
              0,
              "#0d0887"
             ],
             [
              0.1111111111111111,
              "#46039f"
             ],
             [
              0.2222222222222222,
              "#7201a8"
             ],
             [
              0.3333333333333333,
              "#9c179e"
             ],
             [
              0.4444444444444444,
              "#bd3786"
             ],
             [
              0.5555555555555556,
              "#d8576b"
             ],
             [
              0.6666666666666666,
              "#ed7953"
             ],
             [
              0.7777777777777778,
              "#fb9f3a"
             ],
             [
              0.8888888888888888,
              "#fdca26"
             ],
             [
              1,
              "#f0f921"
             ]
            ],
            "type": "heatmapgl"
           }
          ],
          "histogram": [
           {
            "marker": {
             "pattern": {
              "fillmode": "overlay",
              "size": 10,
              "solidity": 0.2
             }
            },
            "type": "histogram"
           }
          ],
          "histogram2d": [
           {
            "colorbar": {
             "outlinewidth": 0,
             "ticks": ""
            },
            "colorscale": [
             [
              0,
              "#0d0887"
             ],
             [
              0.1111111111111111,
              "#46039f"
             ],
             [
              0.2222222222222222,
              "#7201a8"
             ],
             [
              0.3333333333333333,
              "#9c179e"
             ],
             [
              0.4444444444444444,
              "#bd3786"
             ],
             [
              0.5555555555555556,
              "#d8576b"
             ],
             [
              0.6666666666666666,
              "#ed7953"
             ],
             [
              0.7777777777777778,
              "#fb9f3a"
             ],
             [
              0.8888888888888888,
              "#fdca26"
             ],
             [
              1,
              "#f0f921"
             ]
            ],
            "type": "histogram2d"
           }
          ],
          "histogram2dcontour": [
           {
            "colorbar": {
             "outlinewidth": 0,
             "ticks": ""
            },
            "colorscale": [
             [
              0,
              "#0d0887"
             ],
             [
              0.1111111111111111,
              "#46039f"
             ],
             [
              0.2222222222222222,
              "#7201a8"
             ],
             [
              0.3333333333333333,
              "#9c179e"
             ],
             [
              0.4444444444444444,
              "#bd3786"
             ],
             [
              0.5555555555555556,
              "#d8576b"
             ],
             [
              0.6666666666666666,
              "#ed7953"
             ],
             [
              0.7777777777777778,
              "#fb9f3a"
             ],
             [
              0.8888888888888888,
              "#fdca26"
             ],
             [
              1,
              "#f0f921"
             ]
            ],
            "type": "histogram2dcontour"
           }
          ],
          "mesh3d": [
           {
            "colorbar": {
             "outlinewidth": 0,
             "ticks": ""
            },
            "type": "mesh3d"
           }
          ],
          "parcoords": [
           {
            "line": {
             "colorbar": {
              "outlinewidth": 0,
              "ticks": ""
             }
            },
            "type": "parcoords"
           }
          ],
          "pie": [
           {
            "automargin": true,
            "type": "pie"
           }
          ],
          "scatter": [
           {
            "fillpattern": {
             "fillmode": "overlay",
             "size": 10,
             "solidity": 0.2
            },
            "type": "scatter"
           }
          ],
          "scatter3d": [
           {
            "line": {
             "colorbar": {
              "outlinewidth": 0,
              "ticks": ""
             }
            },
            "marker": {
             "colorbar": {
              "outlinewidth": 0,
              "ticks": ""
             }
            },
            "type": "scatter3d"
           }
          ],
          "scattercarpet": [
           {
            "marker": {
             "colorbar": {
              "outlinewidth": 0,
              "ticks": ""
             }
            },
            "type": "scattercarpet"
           }
          ],
          "scattergeo": [
           {
            "marker": {
             "colorbar": {
              "outlinewidth": 0,
              "ticks": ""
             }
            },
            "type": "scattergeo"
           }
          ],
          "scattergl": [
           {
            "marker": {
             "colorbar": {
              "outlinewidth": 0,
              "ticks": ""
             }
            },
            "type": "scattergl"
           }
          ],
          "scattermapbox": [
           {
            "marker": {
             "colorbar": {
              "outlinewidth": 0,
              "ticks": ""
             }
            },
            "type": "scattermapbox"
           }
          ],
          "scatterpolar": [
           {
            "marker": {
             "colorbar": {
              "outlinewidth": 0,
              "ticks": ""
             }
            },
            "type": "scatterpolar"
           }
          ],
          "scatterpolargl": [
           {
            "marker": {
             "colorbar": {
              "outlinewidth": 0,
              "ticks": ""
             }
            },
            "type": "scatterpolargl"
           }
          ],
          "scatterternary": [
           {
            "marker": {
             "colorbar": {
              "outlinewidth": 0,
              "ticks": ""
             }
            },
            "type": "scatterternary"
           }
          ],
          "surface": [
           {
            "colorbar": {
             "outlinewidth": 0,
             "ticks": ""
            },
            "colorscale": [
             [
              0,
              "#0d0887"
             ],
             [
              0.1111111111111111,
              "#46039f"
             ],
             [
              0.2222222222222222,
              "#7201a8"
             ],
             [
              0.3333333333333333,
              "#9c179e"
             ],
             [
              0.4444444444444444,
              "#bd3786"
             ],
             [
              0.5555555555555556,
              "#d8576b"
             ],
             [
              0.6666666666666666,
              "#ed7953"
             ],
             [
              0.7777777777777778,
              "#fb9f3a"
             ],
             [
              0.8888888888888888,
              "#fdca26"
             ],
             [
              1,
              "#f0f921"
             ]
            ],
            "type": "surface"
           }
          ],
          "table": [
           {
            "cells": {
             "fill": {
              "color": "#EBF0F8"
             },
             "line": {
              "color": "white"
             }
            },
            "header": {
             "fill": {
              "color": "#C8D4E3"
             },
             "line": {
              "color": "white"
             }
            },
            "type": "table"
           }
          ]
         },
         "layout": {
          "annotationdefaults": {
           "arrowcolor": "#2a3f5f",
           "arrowhead": 0,
           "arrowwidth": 1
          },
          "autotypenumbers": "strict",
          "coloraxis": {
           "colorbar": {
            "outlinewidth": 0,
            "ticks": ""
           }
          },
          "colorscale": {
           "diverging": [
            [
             0,
             "#8e0152"
            ],
            [
             0.1,
             "#c51b7d"
            ],
            [
             0.2,
             "#de77ae"
            ],
            [
             0.3,
             "#f1b6da"
            ],
            [
             0.4,
             "#fde0ef"
            ],
            [
             0.5,
             "#f7f7f7"
            ],
            [
             0.6,
             "#e6f5d0"
            ],
            [
             0.7,
             "#b8e186"
            ],
            [
             0.8,
             "#7fbc41"
            ],
            [
             0.9,
             "#4d9221"
            ],
            [
             1,
             "#276419"
            ]
           ],
           "sequential": [
            [
             0,
             "#0d0887"
            ],
            [
             0.1111111111111111,
             "#46039f"
            ],
            [
             0.2222222222222222,
             "#7201a8"
            ],
            [
             0.3333333333333333,
             "#9c179e"
            ],
            [
             0.4444444444444444,
             "#bd3786"
            ],
            [
             0.5555555555555556,
             "#d8576b"
            ],
            [
             0.6666666666666666,
             "#ed7953"
            ],
            [
             0.7777777777777778,
             "#fb9f3a"
            ],
            [
             0.8888888888888888,
             "#fdca26"
            ],
            [
             1,
             "#f0f921"
            ]
           ],
           "sequentialminus": [
            [
             0,
             "#0d0887"
            ],
            [
             0.1111111111111111,
             "#46039f"
            ],
            [
             0.2222222222222222,
             "#7201a8"
            ],
            [
             0.3333333333333333,
             "#9c179e"
            ],
            [
             0.4444444444444444,
             "#bd3786"
            ],
            [
             0.5555555555555556,
             "#d8576b"
            ],
            [
             0.6666666666666666,
             "#ed7953"
            ],
            [
             0.7777777777777778,
             "#fb9f3a"
            ],
            [
             0.8888888888888888,
             "#fdca26"
            ],
            [
             1,
             "#f0f921"
            ]
           ]
          },
          "colorway": [
           "#636efa",
           "#EF553B",
           "#00cc96",
           "#ab63fa",
           "#FFA15A",
           "#19d3f3",
           "#FF6692",
           "#B6E880",
           "#FF97FF",
           "#FECB52"
          ],
          "font": {
           "color": "#2a3f5f"
          },
          "geo": {
           "bgcolor": "white",
           "lakecolor": "white",
           "landcolor": "#E5ECF6",
           "showlakes": true,
           "showland": true,
           "subunitcolor": "white"
          },
          "hoverlabel": {
           "align": "left"
          },
          "hovermode": "closest",
          "mapbox": {
           "style": "light"
          },
          "paper_bgcolor": "white",
          "plot_bgcolor": "#E5ECF6",
          "polar": {
           "angularaxis": {
            "gridcolor": "white",
            "linecolor": "white",
            "ticks": ""
           },
           "bgcolor": "#E5ECF6",
           "radialaxis": {
            "gridcolor": "white",
            "linecolor": "white",
            "ticks": ""
           }
          },
          "scene": {
           "xaxis": {
            "backgroundcolor": "#E5ECF6",
            "gridcolor": "white",
            "gridwidth": 2,
            "linecolor": "white",
            "showbackground": true,
            "ticks": "",
            "zerolinecolor": "white"
           },
           "yaxis": {
            "backgroundcolor": "#E5ECF6",
            "gridcolor": "white",
            "gridwidth": 2,
            "linecolor": "white",
            "showbackground": true,
            "ticks": "",
            "zerolinecolor": "white"
           },
           "zaxis": {
            "backgroundcolor": "#E5ECF6",
            "gridcolor": "white",
            "gridwidth": 2,
            "linecolor": "white",
            "showbackground": true,
            "ticks": "",
            "zerolinecolor": "white"
           }
          },
          "shapedefaults": {
           "line": {
            "color": "#2a3f5f"
           }
          },
          "ternary": {
           "aaxis": {
            "gridcolor": "white",
            "linecolor": "white",
            "ticks": ""
           },
           "baxis": {
            "gridcolor": "white",
            "linecolor": "white",
            "ticks": ""
           },
           "bgcolor": "#E5ECF6",
           "caxis": {
            "gridcolor": "white",
            "linecolor": "white",
            "ticks": ""
           }
          },
          "title": {
           "x": 0.05
          },
          "xaxis": {
           "automargin": true,
           "gridcolor": "white",
           "linecolor": "white",
           "ticks": "",
           "title": {
            "standoff": 15
           },
           "zerolinecolor": "white",
           "zerolinewidth": 2
          },
          "yaxis": {
           "automargin": true,
           "gridcolor": "white",
           "linecolor": "white",
           "ticks": "",
           "title": {
            "standoff": 15
           },
           "zerolinecolor": "white",
           "zerolinewidth": 2
          }
         }
        },
        "title": {
         "text": "Stress Level Distribution by Work Location"
        }
       }
      }
     },
     "metadata": {},
     "output_type": "display_data"
    }
   ],
   "source": [
    "mentalHealthVizTwoDf = mental_health_df\n",
    "\n",
    "# Group data by Work_Location and Stress_Level to get counts\n",
    "sunburst_data = mentalHealthVizTwoDf.groupby(['Work_Location', 'Stress_Level']).size().reset_index(name='Count')\n",
    "\n",
    "# Create the sunburst plot\n",
    "plot = px.sunburst(\n",
    "    sunburst_data,\n",
    "    path=['Work_Location', 'Stress_Level'],  # Define the hierarchy\n",
    "    values='Count',  # Size of each slice\n",
    "    color='Stress_Level',  # Color by stress level\n",
    "    color_discrete_map={'High': 'red', 'Medium': 'orange', 'Low': 'green'}  # Custom colors\n",
    ")\n",
    "\n",
    "# Update layout for readability\n",
    "plot.update_layout(\n",
    "    title=\"Stress Level Distribution by Work Location\",\n",
    "    margin=dict(t=40, l=0, r=0, b=0)\n",
    ")\n",
    "\n",
    "plot.show()"
   ]
  },
  {
   "cell_type": "markdown",
   "metadata": {},
   "source": [
    "This visualization shows the the breakdown of amount of stress among the differnt work types. They are very similar again, though it is worth noting that onsite has the least \"High\" stressed individuals and remote has the most. This would suggest that overall it is not a huge difference but working remotly may be slightly more stressful."
   ]
  },
  {
   "cell_type": "code",
   "execution_count": 15,
   "metadata": {},
   "outputs": [
    {
     "data": {
      "application/vnd.plotly.v1+json": {
       "config": {
        "plotlyServerURL": "https://plot.ly"
       },
       "data": [
        {
         "branchvalues": "total",
         "customdata": [
          [
           "Decrease"
          ],
          [
           "Increase"
          ],
          [
           "No Change"
          ],
          [
           "Decrease"
          ],
          [
           "Increase"
          ],
          [
           "No Change"
          ],
          [
           "Decrease"
          ],
          [
           "Increase"
          ],
          [
           "No Change"
          ],
          [
           "(?)"
          ],
          [
           "(?)"
          ],
          [
           "(?)"
          ]
         ],
         "domain": {
          "x": [
           0,
           1
          ],
          "y": [
           0,
           1
          ]
         },
         "hovertemplate": "labels=%{label}<br>Count=%{value}<br>parent=%{parent}<br>id=%{id}<br>Productivity_Change=%{customdata[0]}<extra></extra>",
         "ids": [
          "Hybrid/Decrease",
          "Hybrid/Increase",
          "Hybrid/No Change",
          "Onsite/Decrease",
          "Onsite/Increase",
          "Onsite/No Change",
          "Remote/Decrease",
          "Remote/Increase",
          "Remote/No Change",
          "Hybrid",
          "Onsite",
          "Remote"
         ],
         "labels": [
          "Decrease",
          "Increase",
          "No Change",
          "Decrease",
          "Increase",
          "No Change",
          "Decrease",
          "Increase",
          "No Change",
          "Hybrid",
          "Onsite",
          "Remote"
         ],
         "marker": {
          "colors": [
           "red",
           "green",
           "grey",
           "red",
           "green",
           "grey",
           "red",
           "green",
           "grey",
           "#ab63fa",
           "#ab63fa",
           "#ab63fa"
          ]
         },
         "name": "",
         "parents": [
          "Hybrid",
          "Hybrid",
          "Hybrid",
          "Onsite",
          "Onsite",
          "Onsite",
          "Remote",
          "Remote",
          "Remote",
          "",
          "",
          ""
         ],
         "type": "sunburst",
         "values": [
          591,
          514,
          544,
          558,
          514,
          565,
          588,
          558,
          568,
          1649,
          1637,
          1714
         ]
        }
       ],
       "layout": {
        "legend": {
         "tracegroupgap": 0
        },
        "margin": {
         "b": 0,
         "l": 0,
         "r": 0,
         "t": 40
        },
        "template": {
         "data": {
          "bar": [
           {
            "error_x": {
             "color": "#2a3f5f"
            },
            "error_y": {
             "color": "#2a3f5f"
            },
            "marker": {
             "line": {
              "color": "#E5ECF6",
              "width": 0.5
             },
             "pattern": {
              "fillmode": "overlay",
              "size": 10,
              "solidity": 0.2
             }
            },
            "type": "bar"
           }
          ],
          "barpolar": [
           {
            "marker": {
             "line": {
              "color": "#E5ECF6",
              "width": 0.5
             },
             "pattern": {
              "fillmode": "overlay",
              "size": 10,
              "solidity": 0.2
             }
            },
            "type": "barpolar"
           }
          ],
          "carpet": [
           {
            "aaxis": {
             "endlinecolor": "#2a3f5f",
             "gridcolor": "white",
             "linecolor": "white",
             "minorgridcolor": "white",
             "startlinecolor": "#2a3f5f"
            },
            "baxis": {
             "endlinecolor": "#2a3f5f",
             "gridcolor": "white",
             "linecolor": "white",
             "minorgridcolor": "white",
             "startlinecolor": "#2a3f5f"
            },
            "type": "carpet"
           }
          ],
          "choropleth": [
           {
            "colorbar": {
             "outlinewidth": 0,
             "ticks": ""
            },
            "type": "choropleth"
           }
          ],
          "contour": [
           {
            "colorbar": {
             "outlinewidth": 0,
             "ticks": ""
            },
            "colorscale": [
             [
              0,
              "#0d0887"
             ],
             [
              0.1111111111111111,
              "#46039f"
             ],
             [
              0.2222222222222222,
              "#7201a8"
             ],
             [
              0.3333333333333333,
              "#9c179e"
             ],
             [
              0.4444444444444444,
              "#bd3786"
             ],
             [
              0.5555555555555556,
              "#d8576b"
             ],
             [
              0.6666666666666666,
              "#ed7953"
             ],
             [
              0.7777777777777778,
              "#fb9f3a"
             ],
             [
              0.8888888888888888,
              "#fdca26"
             ],
             [
              1,
              "#f0f921"
             ]
            ],
            "type": "contour"
           }
          ],
          "contourcarpet": [
           {
            "colorbar": {
             "outlinewidth": 0,
             "ticks": ""
            },
            "type": "contourcarpet"
           }
          ],
          "heatmap": [
           {
            "colorbar": {
             "outlinewidth": 0,
             "ticks": ""
            },
            "colorscale": [
             [
              0,
              "#0d0887"
             ],
             [
              0.1111111111111111,
              "#46039f"
             ],
             [
              0.2222222222222222,
              "#7201a8"
             ],
             [
              0.3333333333333333,
              "#9c179e"
             ],
             [
              0.4444444444444444,
              "#bd3786"
             ],
             [
              0.5555555555555556,
              "#d8576b"
             ],
             [
              0.6666666666666666,
              "#ed7953"
             ],
             [
              0.7777777777777778,
              "#fb9f3a"
             ],
             [
              0.8888888888888888,
              "#fdca26"
             ],
             [
              1,
              "#f0f921"
             ]
            ],
            "type": "heatmap"
           }
          ],
          "heatmapgl": [
           {
            "colorbar": {
             "outlinewidth": 0,
             "ticks": ""
            },
            "colorscale": [
             [
              0,
              "#0d0887"
             ],
             [
              0.1111111111111111,
              "#46039f"
             ],
             [
              0.2222222222222222,
              "#7201a8"
             ],
             [
              0.3333333333333333,
              "#9c179e"
             ],
             [
              0.4444444444444444,
              "#bd3786"
             ],
             [
              0.5555555555555556,
              "#d8576b"
             ],
             [
              0.6666666666666666,
              "#ed7953"
             ],
             [
              0.7777777777777778,
              "#fb9f3a"
             ],
             [
              0.8888888888888888,
              "#fdca26"
             ],
             [
              1,
              "#f0f921"
             ]
            ],
            "type": "heatmapgl"
           }
          ],
          "histogram": [
           {
            "marker": {
             "pattern": {
              "fillmode": "overlay",
              "size": 10,
              "solidity": 0.2
             }
            },
            "type": "histogram"
           }
          ],
          "histogram2d": [
           {
            "colorbar": {
             "outlinewidth": 0,
             "ticks": ""
            },
            "colorscale": [
             [
              0,
              "#0d0887"
             ],
             [
              0.1111111111111111,
              "#46039f"
             ],
             [
              0.2222222222222222,
              "#7201a8"
             ],
             [
              0.3333333333333333,
              "#9c179e"
             ],
             [
              0.4444444444444444,
              "#bd3786"
             ],
             [
              0.5555555555555556,
              "#d8576b"
             ],
             [
              0.6666666666666666,
              "#ed7953"
             ],
             [
              0.7777777777777778,
              "#fb9f3a"
             ],
             [
              0.8888888888888888,
              "#fdca26"
             ],
             [
              1,
              "#f0f921"
             ]
            ],
            "type": "histogram2d"
           }
          ],
          "histogram2dcontour": [
           {
            "colorbar": {
             "outlinewidth": 0,
             "ticks": ""
            },
            "colorscale": [
             [
              0,
              "#0d0887"
             ],
             [
              0.1111111111111111,
              "#46039f"
             ],
             [
              0.2222222222222222,
              "#7201a8"
             ],
             [
              0.3333333333333333,
              "#9c179e"
             ],
             [
              0.4444444444444444,
              "#bd3786"
             ],
             [
              0.5555555555555556,
              "#d8576b"
             ],
             [
              0.6666666666666666,
              "#ed7953"
             ],
             [
              0.7777777777777778,
              "#fb9f3a"
             ],
             [
              0.8888888888888888,
              "#fdca26"
             ],
             [
              1,
              "#f0f921"
             ]
            ],
            "type": "histogram2dcontour"
           }
          ],
          "mesh3d": [
           {
            "colorbar": {
             "outlinewidth": 0,
             "ticks": ""
            },
            "type": "mesh3d"
           }
          ],
          "parcoords": [
           {
            "line": {
             "colorbar": {
              "outlinewidth": 0,
              "ticks": ""
             }
            },
            "type": "parcoords"
           }
          ],
          "pie": [
           {
            "automargin": true,
            "type": "pie"
           }
          ],
          "scatter": [
           {
            "fillpattern": {
             "fillmode": "overlay",
             "size": 10,
             "solidity": 0.2
            },
            "type": "scatter"
           }
          ],
          "scatter3d": [
           {
            "line": {
             "colorbar": {
              "outlinewidth": 0,
              "ticks": ""
             }
            },
            "marker": {
             "colorbar": {
              "outlinewidth": 0,
              "ticks": ""
             }
            },
            "type": "scatter3d"
           }
          ],
          "scattercarpet": [
           {
            "marker": {
             "colorbar": {
              "outlinewidth": 0,
              "ticks": ""
             }
            },
            "type": "scattercarpet"
           }
          ],
          "scattergeo": [
           {
            "marker": {
             "colorbar": {
              "outlinewidth": 0,
              "ticks": ""
             }
            },
            "type": "scattergeo"
           }
          ],
          "scattergl": [
           {
            "marker": {
             "colorbar": {
              "outlinewidth": 0,
              "ticks": ""
             }
            },
            "type": "scattergl"
           }
          ],
          "scattermapbox": [
           {
            "marker": {
             "colorbar": {
              "outlinewidth": 0,
              "ticks": ""
             }
            },
            "type": "scattermapbox"
           }
          ],
          "scatterpolar": [
           {
            "marker": {
             "colorbar": {
              "outlinewidth": 0,
              "ticks": ""
             }
            },
            "type": "scatterpolar"
           }
          ],
          "scatterpolargl": [
           {
            "marker": {
             "colorbar": {
              "outlinewidth": 0,
              "ticks": ""
             }
            },
            "type": "scatterpolargl"
           }
          ],
          "scatterternary": [
           {
            "marker": {
             "colorbar": {
              "outlinewidth": 0,
              "ticks": ""
             }
            },
            "type": "scatterternary"
           }
          ],
          "surface": [
           {
            "colorbar": {
             "outlinewidth": 0,
             "ticks": ""
            },
            "colorscale": [
             [
              0,
              "#0d0887"
             ],
             [
              0.1111111111111111,
              "#46039f"
             ],
             [
              0.2222222222222222,
              "#7201a8"
             ],
             [
              0.3333333333333333,
              "#9c179e"
             ],
             [
              0.4444444444444444,
              "#bd3786"
             ],
             [
              0.5555555555555556,
              "#d8576b"
             ],
             [
              0.6666666666666666,
              "#ed7953"
             ],
             [
              0.7777777777777778,
              "#fb9f3a"
             ],
             [
              0.8888888888888888,
              "#fdca26"
             ],
             [
              1,
              "#f0f921"
             ]
            ],
            "type": "surface"
           }
          ],
          "table": [
           {
            "cells": {
             "fill": {
              "color": "#EBF0F8"
             },
             "line": {
              "color": "white"
             }
            },
            "header": {
             "fill": {
              "color": "#C8D4E3"
             },
             "line": {
              "color": "white"
             }
            },
            "type": "table"
           }
          ]
         },
         "layout": {
          "annotationdefaults": {
           "arrowcolor": "#2a3f5f",
           "arrowhead": 0,
           "arrowwidth": 1
          },
          "autotypenumbers": "strict",
          "coloraxis": {
           "colorbar": {
            "outlinewidth": 0,
            "ticks": ""
           }
          },
          "colorscale": {
           "diverging": [
            [
             0,
             "#8e0152"
            ],
            [
             0.1,
             "#c51b7d"
            ],
            [
             0.2,
             "#de77ae"
            ],
            [
             0.3,
             "#f1b6da"
            ],
            [
             0.4,
             "#fde0ef"
            ],
            [
             0.5,
             "#f7f7f7"
            ],
            [
             0.6,
             "#e6f5d0"
            ],
            [
             0.7,
             "#b8e186"
            ],
            [
             0.8,
             "#7fbc41"
            ],
            [
             0.9,
             "#4d9221"
            ],
            [
             1,
             "#276419"
            ]
           ],
           "sequential": [
            [
             0,
             "#0d0887"
            ],
            [
             0.1111111111111111,
             "#46039f"
            ],
            [
             0.2222222222222222,
             "#7201a8"
            ],
            [
             0.3333333333333333,
             "#9c179e"
            ],
            [
             0.4444444444444444,
             "#bd3786"
            ],
            [
             0.5555555555555556,
             "#d8576b"
            ],
            [
             0.6666666666666666,
             "#ed7953"
            ],
            [
             0.7777777777777778,
             "#fb9f3a"
            ],
            [
             0.8888888888888888,
             "#fdca26"
            ],
            [
             1,
             "#f0f921"
            ]
           ],
           "sequentialminus": [
            [
             0,
             "#0d0887"
            ],
            [
             0.1111111111111111,
             "#46039f"
            ],
            [
             0.2222222222222222,
             "#7201a8"
            ],
            [
             0.3333333333333333,
             "#9c179e"
            ],
            [
             0.4444444444444444,
             "#bd3786"
            ],
            [
             0.5555555555555556,
             "#d8576b"
            ],
            [
             0.6666666666666666,
             "#ed7953"
            ],
            [
             0.7777777777777778,
             "#fb9f3a"
            ],
            [
             0.8888888888888888,
             "#fdca26"
            ],
            [
             1,
             "#f0f921"
            ]
           ]
          },
          "colorway": [
           "#636efa",
           "#EF553B",
           "#00cc96",
           "#ab63fa",
           "#FFA15A",
           "#19d3f3",
           "#FF6692",
           "#B6E880",
           "#FF97FF",
           "#FECB52"
          ],
          "font": {
           "color": "#2a3f5f"
          },
          "geo": {
           "bgcolor": "white",
           "lakecolor": "white",
           "landcolor": "#E5ECF6",
           "showlakes": true,
           "showland": true,
           "subunitcolor": "white"
          },
          "hoverlabel": {
           "align": "left"
          },
          "hovermode": "closest",
          "mapbox": {
           "style": "light"
          },
          "paper_bgcolor": "white",
          "plot_bgcolor": "#E5ECF6",
          "polar": {
           "angularaxis": {
            "gridcolor": "white",
            "linecolor": "white",
            "ticks": ""
           },
           "bgcolor": "#E5ECF6",
           "radialaxis": {
            "gridcolor": "white",
            "linecolor": "white",
            "ticks": ""
           }
          },
          "scene": {
           "xaxis": {
            "backgroundcolor": "#E5ECF6",
            "gridcolor": "white",
            "gridwidth": 2,
            "linecolor": "white",
            "showbackground": true,
            "ticks": "",
            "zerolinecolor": "white"
           },
           "yaxis": {
            "backgroundcolor": "#E5ECF6",
            "gridcolor": "white",
            "gridwidth": 2,
            "linecolor": "white",
            "showbackground": true,
            "ticks": "",
            "zerolinecolor": "white"
           },
           "zaxis": {
            "backgroundcolor": "#E5ECF6",
            "gridcolor": "white",
            "gridwidth": 2,
            "linecolor": "white",
            "showbackground": true,
            "ticks": "",
            "zerolinecolor": "white"
           }
          },
          "shapedefaults": {
           "line": {
            "color": "#2a3f5f"
           }
          },
          "ternary": {
           "aaxis": {
            "gridcolor": "white",
            "linecolor": "white",
            "ticks": ""
           },
           "baxis": {
            "gridcolor": "white",
            "linecolor": "white",
            "ticks": ""
           },
           "bgcolor": "#E5ECF6",
           "caxis": {
            "gridcolor": "white",
            "linecolor": "white",
            "ticks": ""
           }
          },
          "title": {
           "x": 0.05
          },
          "xaxis": {
           "automargin": true,
           "gridcolor": "white",
           "linecolor": "white",
           "ticks": "",
           "title": {
            "standoff": 15
           },
           "zerolinecolor": "white",
           "zerolinewidth": 2
          },
          "yaxis": {
           "automargin": true,
           "gridcolor": "white",
           "linecolor": "white",
           "ticks": "",
           "title": {
            "standoff": 15
           },
           "zerolinecolor": "white",
           "zerolinewidth": 2
          }
         }
        },
        "title": {
         "text": "Change in productivity by Work Location"
        }
       }
      }
     },
     "metadata": {},
     "output_type": "display_data"
    }
   ],
   "source": [
    "mentalHealthVizThreeDf = mental_health_df\n",
    "\n",
    "# Group data by Work_Location and Productivity_Change to get counts\n",
    "sunburst_data = mentalHealthVizThreeDf.groupby(['Work_Location', 'Productivity_Change']).size().reset_index(name='Count')\n",
    "\n",
    "# Create the sunburst plot\n",
    "plot = px.sunburst(\n",
    "    sunburst_data,\n",
    "    path=['Work_Location', 'Productivity_Change'],  # Define the hierarchy\n",
    "    values='Count',  # Size of each slice\n",
    "    color='Productivity_Change',  # Color by stress level\n",
    "    color_discrete_map={'Decrease': 'red', 'No Change': 'grey', 'Increase': 'green'}  # Custom colors\n",
    ")\n",
    "\n",
    "# Update layout for readability\n",
    "plot.update_layout(\n",
    "    title=\"Change in productivity by Work Location\",\n",
    "    margin=dict(t=40, l=0, r=0, b=0)\n",
    ")\n",
    "\n",
    "plot.show()"
   ]
  },
  {
   "cell_type": "markdown",
   "metadata": {},
   "source": [
    "This visualization shows the change in productivity bewtween different work modalities. All of them had more decreases than increases but again there do not appear to be significant statistical differances between the categories. It would seem upon cursory analysis that there many not be clear trends about remote work's effects on productivity."
   ]
  },
  {
   "cell_type": "code",
   "execution_count": 16,
   "metadata": {},
   "outputs": [
    {
     "data": {
      "text/plain": [
       "<Axes: xlabel='Percentage point increase in remote workers', ylabel='Excess TFP Growth'>"
      ]
     },
     "execution_count": 16,
     "metadata": {},
     "output_type": "execute_result"
    },
    {
     "data": {
      "image/png": "[encoded data removed]",
      "text/plain": [
       "<Figure size 640x480 with 1 Axes>"
      ]
     },
     "metadata": {},
     "output_type": "display_data"
    }
   ],
   "source": [
    "remoteProductivityRelationDf.plot.scatter('Percentage point increase in remote workers', 'Excess TFP Growth')"
   ]
  },
  {
   "cell_type": "markdown",
   "metadata": {},
   "source": [
    "This chart shows industries that had increased in remote workers durring 2020 and how their excess TFP growth changed. Higher TFP is better for the economy so a corratation between increases in remote workers and TFP could show if remote work tends to be helpful or not. Unfortunatly there does not appear to be a strong corralation either way. Perhapse slightly possitive but not conclusive."
   ]
  },
  {
   "cell_type": "code",
   "execution_count": null,
   "metadata": {},
   "outputs": [],
   "source": []
  },
  {
   "cell_type": "markdown",
   "metadata": {},
   "source": [
    "## Machine Learning Plan\n",
    "- I will try a polynomial regression with remote_work_productivity.csv to predict the productivity of employees\n",
    "- I am worried that there will not be enough data to train the model well as not all of the data seems to be particularly interlinked\n",
    "- I will experiment with several different degrees to see if any of them can get a good fit"
   ]
  },
  {
   "cell_type": "markdown",
   "metadata": {},
   "source": [
    "## Machine Learning Implementation Process\n"
   ]
  },
  {
   "cell_type": "markdown",
   "metadata": {},
   "source": [
    "#### Ask"
   ]
  },
  {
   "cell_type": "code",
   "execution_count": 17,
   "metadata": {},
   "outputs": [
    {
     "name": "stdout",
     "output_type": "stream",
     "text": [
      "<class 'pandas.core.frame.DataFrame'>\n",
      "RangeIndex: 1000 entries, 0 to 999\n",
      "Data columns (total 4 columns):\n",
      " #   Column                 Non-Null Count  Dtype \n",
      "---  ------                 --------------  ----- \n",
      " 0   Employment_Type        1000 non-null   object\n",
      " 1   Hours_Worked_Per_Week  1000 non-null   int64 \n",
      " 2   Productivity_Score     1000 non-null   int64 \n",
      " 3   Well_Being_Score       1000 non-null   int64 \n",
      "dtypes: int64(3), object(1)\n",
      "memory usage: 31.4+ KB\n",
      "None\n",
      "       Hours_Worked_Per_Week  Productivity_Score  Well_Being_Score\n",
      "count            1000.000000         1000.000000       1000.000000\n",
      "mean               39.720000           68.602000         63.975000\n",
      "std                 8.042779           12.235494         13.870572\n",
      "min                16.000000           33.000000         14.000000\n",
      "25%                34.750000           60.000000         56.000000\n",
      "50%                40.000000           68.000000         65.000000\n",
      "75%                45.000000           76.000000         73.000000\n",
      "max                64.000000          112.000000        104.000000\n"
     ]
    }
   ],
   "source": [
    "# I will be working with productivity_df\n",
    "\n",
    "# The employee ID column is not going to be of use to us so lets remove it before we start doing any work with the data\n",
    "productiviy_df_noID = productiviy_df.drop('Employee_ID', axis=1)\n",
    "\n",
    "# In this info display we can see that there are no null values\n",
    "print(productiviy_df_noID.info())\n",
    "\n",
    "# This describe gives us an idea of the scale of the numerical columns, their ranges are similar and should not need much, if any, adjustment\n",
    "print(productiviy_df_noID.describe())"
   ]
  },
  {
   "cell_type": "markdown",
   "metadata": {},
   "source": [
    "#### Prepare"
   ]
  },
  {
   "cell_type": "code",
   "execution_count": 18,
   "metadata": {},
   "outputs": [
    {
     "name": "stdout",
     "output_type": "stream",
     "text": [
      "    Employment_Type  Hours_Worked_Per_Week  Well_Being_Score\n",
      "600          Remote                     32                60\n",
      "80           Remote                     29                54\n",
      "158          Remote                     31                69\n",
      "423          Remote                     50                60\n",
      "747          Remote                     41                73\n",
      "-------------\n",
      "600    77\n",
      "80     84\n",
      "158    65\n",
      "423    71\n",
      "747    65\n",
      "Name: Productivity_Score, dtype: int64\n"
     ]
    }
   ],
   "source": [
    "# I am not a SME but I don't see any variables that we need to split the data by so I am going to use a standard test_train_split\n",
    "train_set, test_set = model_selection.train_test_split(productiviy_df_noID, test_size=.2, random_state=7)\n",
    "\n",
    "# Lets split the training set into X and Y\n",
    "productivity_X = train_set.drop('Productivity_Score', axis=1)\n",
    "productivity_Y = train_set['Productivity_Score'].copy()\n",
    "\n",
    "print(productivity_X.head())\n",
    "print('-------------')\n",
    "print(productivity_Y.head())"
   ]
  },
  {
   "cell_type": "markdown",
   "metadata": {},
   "source": [
    "#### Process"
   ]
  },
  {
   "cell_type": "code",
   "execution_count": 19,
   "metadata": {},
   "outputs": [
    {
     "name": "stdout",
     "output_type": "stream",
     "text": [
      "     Hours_Worked_Per_Week  Well_Being_Score\n",
      "600              -0.979224         -0.279359\n",
      "80               -1.356817         -0.713174\n",
      "158              -1.105088          0.371364\n",
      "423               1.286333         -0.279359\n",
      "747               0.153554          0.660574\n",
      "Employment_Type\n",
      "In-Office          406\n",
      "Remote             394\n",
      "Name: count, dtype: int64\n"
     ]
    },
    {
     "data": {
      "text/plain": [
       "[array(['In-Office', 'Remote'], dtype=object)]"
      ]
     },
     "execution_count": 19,
     "metadata": {},
     "output_type": "execute_result"
    }
   ],
   "source": [
    "# Start by splitting X into numerical and catagorical\n",
    "productivity_train_cat = productivity_X[['Employment_Type']]\n",
    "productivity_train_num = productivity_X.drop('Employment_Type', axis=1)\n",
    "\n",
    "# As I mentioned above there are no missing values to impute so we are skipping that step\n",
    "\n",
    "# I don't think this data should need a large amount of scalling but lets do it just in case (and to demonstrate I can)\n",
    "scaler = StandardScaler()\n",
    "\n",
    "productivity_train_num_scaled = scaler.fit_transform(productivity_train_num)\n",
    "productivity_train_num_scaled = pd.DataFrame(productivity_train_num_scaled, columns=productivity_train_num.columns, index=productivity_train_num.index)\n",
    "\n",
    "print(productivity_train_num_scaled.head())\n",
    "\n",
    "# Now lets encode the categorical features\n",
    "print(productivity_train_cat.value_counts())\n",
    "\n",
    "cat_encoder = OneHotEncoder(sparse_output=True)\n",
    "productivity_train_cat_encoded = cat_encoder.fit_transform(productivity_train_cat)\n",
    "\n",
    "cat_encoder.categories_"
   ]
  },
  {
   "cell_type": "code",
   "execution_count": 20,
   "metadata": {},
   "outputs": [
    {
     "data": {
      "text/html": [
       "<div>\n",
       "<style scoped>\n",
       "    .dataframe tbody tr th:only-of-type {\n",
       "        vertical-align: middle;\n",
       "    }\n",
       "\n",
       "    .dataframe tbody tr th {\n",
       "        vertical-align: top;\n",
       "    }\n",
       "\n",
       "    .dataframe thead th {\n",
       "        text-align: right;\n",
       "    }\n",
       "</style>\n",
       "<table border=\"1\" class=\"dataframe\">\n",
       "  <thead>\n",
       "    <tr style=\"text-align: right;\">\n",
       "      <th></th>\n",
       "      <th>Hours_Worked_Per_Week</th>\n",
       "      <th>Well_Being_Score</th>\n",
       "      <th>In-Office</th>\n",
       "      <th>Remote</th>\n",
       "    </tr>\n",
       "  </thead>\n",
       "  <tbody>\n",
       "    <tr>\n",
       "      <th>600</th>\n",
       "      <td>-0.979224</td>\n",
       "      <td>-0.279359</td>\n",
       "      <td>0.0</td>\n",
       "      <td>1.0</td>\n",
       "    </tr>\n",
       "    <tr>\n",
       "      <th>80</th>\n",
       "      <td>-1.356817</td>\n",
       "      <td>-0.713174</td>\n",
       "      <td>0.0</td>\n",
       "      <td>1.0</td>\n",
       "    </tr>\n",
       "    <tr>\n",
       "      <th>158</th>\n",
       "      <td>-1.105088</td>\n",
       "      <td>0.371364</td>\n",
       "      <td>0.0</td>\n",
       "      <td>1.0</td>\n",
       "    </tr>\n",
       "    <tr>\n",
       "      <th>423</th>\n",
       "      <td>1.286333</td>\n",
       "      <td>-0.279359</td>\n",
       "      <td>0.0</td>\n",
       "      <td>1.0</td>\n",
       "    </tr>\n",
       "    <tr>\n",
       "      <th>747</th>\n",
       "      <td>0.153554</td>\n",
       "      <td>0.660574</td>\n",
       "      <td>0.0</td>\n",
       "      <td>1.0</td>\n",
       "    </tr>\n",
       "  </tbody>\n",
       "</table>\n",
       "</div>"
      ],
      "text/plain": [
       "     Hours_Worked_Per_Week  Well_Being_Score  In-Office  Remote\n",
       "600              -0.979224         -0.279359        0.0     1.0\n",
       "80               -1.356817         -0.713174        0.0     1.0\n",
       "158              -1.105088          0.371364        0.0     1.0\n",
       "423               1.286333         -0.279359        0.0     1.0\n",
       "747               0.153554          0.660574        0.0     1.0"
      ]
     },
     "execution_count": 20,
     "metadata": {},
     "output_type": "execute_result"
    }
   ],
   "source": [
    "# Now lets do this again in pipline form for reproducability now that we know it works\n",
    "num_features = productivity_train_num.columns\n",
    "cat_features = productivity_train_cat.columns\n",
    "\n",
    "num_pipeline = Pipeline([\n",
    "    ('scaler', StandardScaler())\n",
    "])\n",
    "\n",
    "cat_pipeline = Pipeline([\n",
    "    ('one-hot-encoder', OneHotEncoder())\n",
    "])\n",
    "\n",
    "full_pipeline = ColumnTransformer([\n",
    "    ('num', num_pipeline, num_features),\n",
    "    ('cat', cat_pipeline, cat_features)\n",
    "])\n",
    "\n",
    "productivity_X_prepared = full_pipeline.fit_transform(productivity_X)\n",
    "\n",
    "all_columns = productivity_train_num.columns.tolist() + cat_encoder.categories_[0].tolist()\n",
    "\n",
    "productivity_X_prepared = pd.DataFrame(productivity_X_prepared, columns=all_columns, index=productivity_X.index)\n",
    "productivity_X_prepared.head()"
   ]
  },
  {
   "cell_type": "markdown",
   "metadata": {},
   "source": [
    "#### Analyze & Evaluate"
   ]
  },
  {
   "cell_type": "code",
   "execution_count": 21,
   "metadata": {},
   "outputs": [],
   "source": [
    "# Lets split the test data into X & Y and then clean the X\n",
    "productivity_X_test = test_set.drop('Productivity_Score', axis=1)\n",
    "productivity_Y_test = test_set[['Productivity_Score']].copy()\n",
    "\n",
    "productivity_X_test_clean = full_pipeline.transform(productivity_X_test)\n",
    "\n",
    "# To test many different degrees we will create a function that intakes the degree and then outputs a dictonary with degree and rmse\n",
    "#   We can then compare to find the one with the lowest rmse\n",
    "def degreeToRMSE(degree) -> dict:\n",
    "    poly_reg = Pipeline([\n",
    "        ('poly_features', PolynomialFeatures(degree=degree)),\n",
    "        ('poly_reg', LinearRegression())\n",
    "    ])\n",
    "\n",
    "    poly_reg.fit(productivity_X_prepared, productivity_Y)\n",
    "\n",
    "    train_prediction = poly_reg.predict(productivity_X_prepared)\n",
    "    poly_train_mse = mean_squared_error(productivity_Y, train_prediction)\n",
    "    poly_train_rmse = np.sqrt(poly_train_mse)\n",
    "\n",
    "    test_prediction = poly_reg.predict(productivity_X_test_clean)\n",
    "    poly_test_mse = mean_squared_error(productivity_Y_test, test_prediction)\n",
    "    poly_test_rmse = np.sqrt(poly_test_mse)\n",
    "\n",
    "    return {'train set RMSE': poly_train_rmse, 'test set RMSE': poly_test_rmse}"
   ]
  },
  {
   "cell_type": "code",
   "execution_count": 22,
   "metadata": {},
   "outputs": [
    {
     "name": "stderr",
     "output_type": "stream",
     "text": [
      "c:\\Users\\Nicholas Dumford\\AppData\\Local\\Programs\\Python\\Python312\\Lib\\site-packages\\sklearn\\base.py:465: UserWarning:\n",
      "\n",
      "X does not have valid feature names, but PolynomialFeatures was fitted with feature names\n",
      "\n",
      "c:\\Users\\Nicholas Dumford\\AppData\\Local\\Programs\\Python\\Python312\\Lib\\site-packages\\sklearn\\base.py:465: UserWarning:\n",
      "\n",
      "X does not have valid feature names, but PolynomialFeatures was fitted with feature names\n",
      "\n",
      "c:\\Users\\Nicholas Dumford\\AppData\\Local\\Programs\\Python\\Python312\\Lib\\site-packages\\sklearn\\base.py:465: UserWarning:\n",
      "\n",
      "X does not have valid feature names, but PolynomialFeatures was fitted with feature names\n",
      "\n",
      "c:\\Users\\Nicholas Dumford\\AppData\\Local\\Programs\\Python\\Python312\\Lib\\site-packages\\sklearn\\base.py:465: UserWarning:\n",
      "\n",
      "X does not have valid feature names, but PolynomialFeatures was fitted with feature names\n",
      "\n",
      "c:\\Users\\Nicholas Dumford\\AppData\\Local\\Programs\\Python\\Python312\\Lib\\site-packages\\sklearn\\base.py:465: UserWarning:\n",
      "\n",
      "X does not have valid feature names, but PolynomialFeatures was fitted with feature names\n",
      "\n",
      "c:\\Users\\Nicholas Dumford\\AppData\\Local\\Programs\\Python\\Python312\\Lib\\site-packages\\sklearn\\base.py:465: UserWarning:\n",
      "\n",
      "X does not have valid feature names, but PolynomialFeatures was fitted with feature names\n",
      "\n",
      "c:\\Users\\Nicholas Dumford\\AppData\\Local\\Programs\\Python\\Python312\\Lib\\site-packages\\sklearn\\base.py:465: UserWarning:\n",
      "\n",
      "X does not have valid feature names, but PolynomialFeatures was fitted with feature names\n",
      "\n",
      "c:\\Users\\Nicholas Dumford\\AppData\\Local\\Programs\\Python\\Python312\\Lib\\site-packages\\sklearn\\base.py:465: UserWarning:\n",
      "\n",
      "X does not have valid feature names, but PolynomialFeatures was fitted with feature names\n",
      "\n",
      "c:\\Users\\Nicholas Dumford\\AppData\\Local\\Programs\\Python\\Python312\\Lib\\site-packages\\sklearn\\base.py:465: UserWarning:\n",
      "\n",
      "X does not have valid feature names, but PolynomialFeatures was fitted with feature names\n",
      "\n"
     ]
    },
    {
     "name": "stdout",
     "output_type": "stream",
     "text": [
      "1 degrees:\n",
      "train set RMSE: 11.179404799330738\n",
      "test set RMSE: 11.23982142721469\n",
      "2 degrees:\n",
      "train set RMSE: 11.155926958637616\n",
      "test set RMSE: 11.254423195943392\n",
      "3 degrees:\n",
      "train set RMSE: 11.05867129181114\n",
      "test set RMSE: 11.29244060789565\n",
      "4 degrees:\n",
      "train set RMSE: 10.930322539086331\n",
      "test set RMSE: 11.410540767749435\n",
      "5 degrees:\n",
      "train set RMSE: 10.896785419400489\n",
      "test set RMSE: 11.639659402582723\n",
      "6 degrees:\n",
      "train set RMSE: 10.75396458581392\n",
      "test set RMSE: 11.581213316059017\n",
      "7 degrees:\n",
      "train set RMSE: 10.694476961846526\n",
      "test set RMSE: 13.058453471427297\n",
      "8 degrees:\n",
      "train set RMSE: 10.623945695292988\n",
      "test set RMSE: 31.965094013246247\n",
      "9 degrees:\n",
      "train set RMSE: 10.520011055401767\n",
      "test set RMSE: 44.20090564647582\n",
      "10 degrees:\n",
      "train set RMSE: 10.374491848942881\n",
      "test set RMSE: 66.18704751630554\n"
     ]
    },
    {
     "name": "stderr",
     "output_type": "stream",
     "text": [
      "c:\\Users\\Nicholas Dumford\\AppData\\Local\\Programs\\Python\\Python312\\Lib\\site-packages\\sklearn\\base.py:465: UserWarning:\n",
      "\n",
      "X does not have valid feature names, but PolynomialFeatures was fitted with feature names\n",
      "\n"
     ]
    }
   ],
   "source": [
    "# Now we will loop though and create a dictionary containing several potential degrees and their RMSE outputs\n",
    "rmse_returns = {}\n",
    "for i in range(1, 11):\n",
    "    rmse_returns[i] = degreeToRMSE(i)\n",
    "\n",
    "for key, value in rmse_returns.items():\n",
    "    print(f'{key} degrees:')\n",
    "    for key2, value2 in value.items():\n",
    "        print(f'{key2}: {value2}')"
   ]
  },
  {
   "cell_type": "markdown",
   "metadata": {},
   "source": [
    "The model with only one degree had the best performance with the test set. \n",
    "Degrees 2-6 all performed pretty well also, but they were slowly starting to overfit.\n",
    "After degree 7 the overfitting became obvious.\n",
    "\n",
    "It would seem that a single degree was the best tested model."
   ]
  },
  {
   "attachments": {},
   "cell_type": "markdown",
   "metadata": {},
   "source": [
    "## Resources and References\n",
    "*What resources and references have you used for this project?*\n",
    "📝 <!-- Answer Below -->\n",
    "- https://docs.python.org/3/library/stdtypes.html\n",
    "- https://pandas.pydata.org/docs/reference/api/pandas.DataFrame.html \n",
    "- https://pandas.pydata.org/docs/reference/api/pandas.core.groupby.DataFrameGroupBy.plot.html\n",
    "- https://plotly.com/python/\n",
    "- ChatGPT"
   ]
  },
  {
   "cell_type": "code",
   "execution_count": 23,
   "metadata": {},
   "outputs": [
    {
     "name": "stderr",
     "output_type": "stream",
     "text": [
      "[NbConvertApp] Converting notebook source.ipynb to python\n",
      "[NbConvertApp] Writing 15073 bytes to source.py\n"
     ]
    }
   ],
   "source": [
    "# ⚠️ Make sure you run this cell at the end of your notebook before every submission!\n",
    "!jupyter nbconvert --to python source.ipynb"
   ]
  }
 ],
 "metadata": {
  "kernelspec": {
   "display_name": "Python 3",
   "language": "python",
   "name": "python3"
  },
  "language_info": {
   "codemirror_mode": {
    "name": "ipython",
    "version": 3
   },
   "file_extension": ".py",
   "mimetype": "text/x-python",
   "name": "python",
   "nbconvert_exporter": "python",
   "pygments_lexer": "ipython3",
   "version": "3.12.6"
  },
  "orig_nbformat": 4
 },
 "nbformat": 4,
 "nbformat_minor": 2
}
